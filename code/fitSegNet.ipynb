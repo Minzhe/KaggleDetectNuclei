{
 "cells": [
  {
   "cell_type": "code",
   "execution_count": 1,
   "metadata": {},
   "outputs": [
    {
     "name": "stderr",
     "output_type": "stream",
     "text": [
      "C:\\ScientificTools\\Anaconda3\\lib\\site-packages\\h5py\\__init__.py:36: FutureWarning: Conversion of the second argument of issubdtype from `float` to `np.floating` is deprecated. In future, it will be treated as `np.float64 == np.dtype(float).type`.\n",
      "  from ._conv import register_converters as _register_converters\n",
      "Using TensorFlow backend.\n"
     ]
    }
   ],
   "source": [
    "from utility import getResizeDiscolorImage, getResizeMask, restoreMasks, convert2Sub\n",
    "from lib.segnet import segnet\n",
    "from lib.metrics import *\n",
    "from skimage.io import imshow\n",
    "\n",
    "import matplotlib.pyplot as plt\n",
    "\n",
    "TRAIN_PATH = '../data/stage1_train/'"
   ]
  },
  {
   "cell_type": "markdown",
   "metadata": {},
   "source": [
    "### read data"
   ]
  },
  {
   "cell_type": "code",
   "execution_count": 2,
   "metadata": {},
   "outputs": [
    {
     "name": "stdout",
     "output_type": "stream",
     "text": [
      "Getting and resizing images ... \n"
     ]
    },
    {
     "name": "stderr",
     "output_type": "stream",
     "text": [
      "100%|██████████| 670/670 [00:09<00:00, 69.73it/s]\n"
     ]
    },
    {
     "name": "stdout",
     "output_type": "stream",
     "text": [
      "Getting and resizing masks ... \n"
     ]
    },
    {
     "name": "stderr",
     "output_type": "stream",
     "text": [
      "100%|██████████| 670/670 [02:52<00:00,  3.88it/s]\n"
     ]
    }
   ],
   "source": [
    "X_train, ids_train, sizes_train, ids_col = getResizeDiscolorImage(path=TRAIN_PATH, height=256, width=256)\n",
    "y_train = getResizeMask(path=TRAIN_PATH, height=256, width=256, threshold=0.5)"
   ]
  },
  {
   "cell_type": "markdown",
   "metadata": {},
   "source": [
    "### fit SegNet model"
   ]
  },
  {
   "cell_type": "code",
   "execution_count": 4,
   "metadata": {},
   "outputs": [
    {
     "name": "stdout",
     "output_type": "stream",
     "text": [
      "Initilizing SegNet model ... Done\n",
      "Model structure summary:\n",
      "_________________________________________________________________\n",
      "Layer (type)                 Output Shape              Param #   \n",
      "=================================================================\n",
      "input_1 (InputLayer)         (None, 256, 256, 1)       0         \n",
      "_________________________________________________________________\n",
      "conv2d_1 (Conv2D)            (None, 256, 256, 16)      160       \n",
      "_________________________________________________________________\n",
      "batch_normalization_1 (Batch (None, 256, 256, 16)      64        \n",
      "_________________________________________________________________\n",
      "activation_1 (Activation)    (None, 256, 256, 16)      0         \n",
      "_________________________________________________________________\n",
      "conv2d_2 (Conv2D)            (None, 256, 256, 16)      2320      \n",
      "_________________________________________________________________\n",
      "batch_normalization_2 (Batch (None, 256, 256, 16)      64        \n",
      "_________________________________________________________________\n",
      "activation_2 (Activation)    (None, 256, 256, 16)      0         \n",
      "_________________________________________________________________\n",
      "max_pooling2d_1 (MaxPooling2 (None, 128, 128, 16)      0         \n",
      "_________________________________________________________________\n",
      "conv2d_3 (Conv2D)            (None, 128, 128, 32)      4640      \n",
      "_________________________________________________________________\n",
      "batch_normalization_3 (Batch (None, 128, 128, 32)      128       \n",
      "_________________________________________________________________\n",
      "activation_3 (Activation)    (None, 128, 128, 32)      0         \n",
      "_________________________________________________________________\n",
      "conv2d_4 (Conv2D)            (None, 128, 128, 32)      9248      \n",
      "_________________________________________________________________\n",
      "batch_normalization_4 (Batch (None, 128, 128, 32)      128       \n",
      "_________________________________________________________________\n",
      "activation_4 (Activation)    (None, 128, 128, 32)      0         \n",
      "_________________________________________________________________\n",
      "max_pooling2d_2 (MaxPooling2 (None, 64, 64, 32)        0         \n",
      "_________________________________________________________________\n",
      "conv2d_5 (Conv2D)            (None, 64, 64, 64)        18496     \n",
      "_________________________________________________________________\n",
      "batch_normalization_5 (Batch (None, 64, 64, 64)        256       \n",
      "_________________________________________________________________\n",
      "activation_5 (Activation)    (None, 64, 64, 64)        0         \n",
      "_________________________________________________________________\n",
      "conv2d_6 (Conv2D)            (None, 64, 64, 64)        36928     \n",
      "_________________________________________________________________\n",
      "batch_normalization_6 (Batch (None, 64, 64, 64)        256       \n",
      "_________________________________________________________________\n",
      "activation_6 (Activation)    (None, 64, 64, 64)        0         \n",
      "_________________________________________________________________\n",
      "conv2d_7 (Conv2D)            (None, 64, 64, 64)        36928     \n",
      "_________________________________________________________________\n",
      "batch_normalization_7 (Batch (None, 64, 64, 64)        256       \n",
      "_________________________________________________________________\n",
      "activation_7 (Activation)    (None, 64, 64, 64)        0         \n",
      "_________________________________________________________________\n",
      "max_pooling2d_3 (MaxPooling2 (None, 32, 32, 64)        0         \n",
      "_________________________________________________________________\n",
      "conv2d_8 (Conv2D)            (None, 32, 32, 128)       73856     \n",
      "_________________________________________________________________\n",
      "batch_normalization_8 (Batch (None, 32, 32, 128)       512       \n",
      "_________________________________________________________________\n",
      "activation_8 (Activation)    (None, 32, 32, 128)       0         \n",
      "_________________________________________________________________\n",
      "conv2d_9 (Conv2D)            (None, 32, 32, 128)       147584    \n",
      "_________________________________________________________________\n",
      "batch_normalization_9 (Batch (None, 32, 32, 128)       512       \n",
      "_________________________________________________________________\n",
      "activation_9 (Activation)    (None, 32, 32, 128)       0         \n",
      "_________________________________________________________________\n",
      "conv2d_10 (Conv2D)           (None, 32, 32, 128)       147584    \n",
      "_________________________________________________________________\n",
      "batch_normalization_10 (Batc (None, 32, 32, 128)       512       \n",
      "_________________________________________________________________\n",
      "activation_10 (Activation)   (None, 32, 32, 128)       0         \n",
      "_________________________________________________________________\n",
      "max_pooling2d_4 (MaxPooling2 (None, 16, 16, 128)       0         \n",
      "_________________________________________________________________\n",
      "conv2d_11 (Conv2D)           (None, 16, 16, 128)       147584    \n",
      "_________________________________________________________________\n",
      "batch_normalization_11 (Batc (None, 16, 16, 128)       512       \n",
      "_________________________________________________________________\n",
      "activation_11 (Activation)   (None, 16, 16, 128)       0         \n",
      "_________________________________________________________________\n",
      "conv2d_12 (Conv2D)           (None, 16, 16, 128)       147584    \n",
      "_________________________________________________________________\n",
      "batch_normalization_12 (Batc (None, 16, 16, 128)       512       \n",
      "_________________________________________________________________\n",
      "activation_12 (Activation)   (None, 16, 16, 128)       0         \n",
      "_________________________________________________________________\n",
      "conv2d_13 (Conv2D)           (None, 16, 16, 128)       147584    \n",
      "_________________________________________________________________\n",
      "batch_normalization_13 (Batc (None, 16, 16, 128)       512       \n",
      "_________________________________________________________________\n",
      "activation_13 (Activation)   (None, 16, 16, 128)       0         \n",
      "_________________________________________________________________\n",
      "max_pooling2d_5 (MaxPooling2 (None, 8, 8, 128)         0         \n",
      "_________________________________________________________________\n",
      "up_sampling2d_1 (UpSampling2 (None, 16, 16, 128)       0         \n",
      "_________________________________________________________________\n",
      "conv2d_14 (Conv2D)           (None, 16, 16, 128)       147584    \n",
      "_________________________________________________________________\n",
      "batch_normalization_14 (Batc (None, 16, 16, 128)       512       \n",
      "_________________________________________________________________\n",
      "activation_14 (Activation)   (None, 16, 16, 128)       0         \n",
      "_________________________________________________________________\n",
      "conv2d_15 (Conv2D)           (None, 16, 16, 128)       147584    \n",
      "_________________________________________________________________\n",
      "batch_normalization_15 (Batc (None, 16, 16, 128)       512       \n",
      "_________________________________________________________________\n",
      "activation_15 (Activation)   (None, 16, 16, 128)       0         \n",
      "_________________________________________________________________\n",
      "conv2d_16 (Conv2D)           (None, 16, 16, 128)       147584    \n",
      "_________________________________________________________________\n",
      "batch_normalization_16 (Batc (None, 16, 16, 128)       512       \n",
      "_________________________________________________________________\n",
      "activation_16 (Activation)   (None, 16, 16, 128)       0         \n",
      "_________________________________________________________________\n",
      "up_sampling2d_2 (UpSampling2 (None, 32, 32, 128)       0         \n",
      "_________________________________________________________________\n",
      "conv2d_17 (Conv2D)           (None, 32, 32, 128)       147584    \n",
      "_________________________________________________________________\n",
      "batch_normalization_17 (Batc (None, 32, 32, 128)       512       \n",
      "_________________________________________________________________\n",
      "activation_17 (Activation)   (None, 32, 32, 128)       0         \n",
      "_________________________________________________________________\n",
      "conv2d_18 (Conv2D)           (None, 32, 32, 128)       147584    \n",
      "_________________________________________________________________\n"
     ]
    },
    {
     "name": "stdout",
     "output_type": "stream",
     "text": [
      "batch_normalization_18 (Batc (None, 32, 32, 128)       512       \n",
      "_________________________________________________________________\n",
      "activation_18 (Activation)   (None, 32, 32, 128)       0         \n",
      "_________________________________________________________________\n",
      "conv2d_19 (Conv2D)           (None, 32, 32, 64)        73792     \n",
      "_________________________________________________________________\n",
      "batch_normalization_19 (Batc (None, 32, 32, 64)        256       \n",
      "_________________________________________________________________\n",
      "activation_19 (Activation)   (None, 32, 32, 64)        0         \n",
      "_________________________________________________________________\n",
      "up_sampling2d_3 (UpSampling2 (None, 64, 64, 64)        0         \n",
      "_________________________________________________________________\n",
      "conv2d_20 (Conv2D)           (None, 64, 64, 64)        36928     \n",
      "_________________________________________________________________\n",
      "batch_normalization_20 (Batc (None, 64, 64, 64)        256       \n",
      "_________________________________________________________________\n",
      "activation_20 (Activation)   (None, 64, 64, 64)        0         \n",
      "_________________________________________________________________\n",
      "conv2d_21 (Conv2D)           (None, 64, 64, 64)        36928     \n",
      "_________________________________________________________________\n",
      "batch_normalization_21 (Batc (None, 64, 64, 64)        256       \n",
      "_________________________________________________________________\n",
      "activation_21 (Activation)   (None, 64, 64, 64)        0         \n",
      "_________________________________________________________________\n",
      "conv2d_22 (Conv2D)           (None, 64, 64, 32)        18464     \n",
      "_________________________________________________________________\n",
      "batch_normalization_22 (Batc (None, 64, 64, 32)        128       \n",
      "_________________________________________________________________\n",
      "activation_22 (Activation)   (None, 64, 64, 32)        0         \n",
      "_________________________________________________________________\n",
      "up_sampling2d_4 (UpSampling2 (None, 128, 128, 32)      0         \n",
      "_________________________________________________________________\n",
      "conv2d_23 (Conv2D)           (None, 128, 128, 32)      9248      \n",
      "_________________________________________________________________\n",
      "batch_normalization_23 (Batc (None, 128, 128, 32)      128       \n",
      "_________________________________________________________________\n",
      "activation_23 (Activation)   (None, 128, 128, 32)      0         \n",
      "_________________________________________________________________\n",
      "conv2d_24 (Conv2D)           (None, 128, 128, 16)      4624      \n",
      "_________________________________________________________________\n",
      "batch_normalization_24 (Batc (None, 128, 128, 16)      64        \n",
      "_________________________________________________________________\n",
      "activation_24 (Activation)   (None, 128, 128, 16)      0         \n",
      "_________________________________________________________________\n",
      "up_sampling2d_5 (UpSampling2 (None, 256, 256, 16)      0         \n",
      "_________________________________________________________________\n",
      "conv2d_25 (Conv2D)           (None, 256, 256, 16)      2320      \n",
      "_________________________________________________________________\n",
      "batch_normalization_25 (Batc (None, 256, 256, 16)      64        \n",
      "_________________________________________________________________\n",
      "activation_25 (Activation)   (None, 256, 256, 16)      0         \n",
      "_________________________________________________________________\n",
      "conv2d_26 (Conv2D)           (None, 256, 256, 1)       17        \n",
      "_________________________________________________________________\n",
      "batch_normalization_26 (Batc (None, 256, 256, 1)       4         \n",
      "_________________________________________________________________\n",
      "activation_26 (Activation)   (None, 256, 256, 1)       0         \n",
      "=================================================================\n",
      "Total params: 1,848,677\n",
      "Trainable params: 1,844,707\n",
      "Non-trainable params: 3,970\n",
      "_________________________________________________________________\n",
      "None\n"
     ]
    }
   ],
   "source": [
    "segnet_model = segnet(img_shape=(256,256,1), metrics=[mean_iou, 'accuracy'], init_filters=16, learning_rate=5e-4)"
   ]
  },
  {
   "cell_type": "code",
   "execution_count": 5,
   "metadata": {},
   "outputs": [
    {
     "name": "stdout",
     "output_type": "stream",
     "text": [
      "Start training Seg-Net ... Train on 536 samples, validate on 134 samples\n",
      "Epoch 1/30\n",
      "536/536 [==============================] - ETA: 14:50 - loss: 0.7841 - mean_iou: 0.0000e+00 - acc: 0.538 - ETA: 12:40 - loss: 0.7770 - mean_iou: 0.0437 - acc: 0.5914    - ETA: 11:08 - loss: 0.7662 - mean_iou: 0.0532 - acc: 0.623 - ETA: 10:16 - loss: 0.7564 - mean_iou: 0.0576 - acc: 0.635 - ETA: 9:23 - loss: 0.7485 - mean_iou: 0.0597 - acc: 0.643 - ETA: 8:33 - loss: 0.7382 - mean_iou: 0.0611 - acc: 0.65 - ETA: 7:44 - loss: 0.7286 - mean_iou: 0.0622 - acc: 0.65 - ETA: 6:56 - loss: 0.7221 - mean_iou: 0.0634 - acc: 0.65 - ETA: 6:06 - loss: 0.7155 - mean_iou: 0.0643 - acc: 0.65 - ETA: 5:18 - loss: 0.7100 - mean_iou: 0.0653 - acc: 0.65 - ETA: 4:30 - loss: 0.7054 - mean_iou: 0.0662 - acc: 0.65 - ETA: 3:43 - loss: 0.7018 - mean_iou: 0.0673 - acc: 0.66 - ETA: 2:56 - loss: 0.6967 - mean_iou: 0.0684 - acc: 0.66 - ETA: 2:09 - loss: 0.6944 - mean_iou: 0.0698 - acc: 0.66 - ETA: 1:22 - loss: 0.6926 - mean_iou: 0.0710 - acc: 0.67 - ETA: 35s - loss: 0.6897 - mean_iou: 0.0723 - acc: 0.6754 - 849s 2s/step - loss: 0.6884 - mean_iou: 0.0733 - acc: 0.6779 - val_loss: 1.1319 - val_mean_iou: 0.1129 - val_acc: 0.6586\n",
      "\n",
      "Epoch 00001: val_loss improved from inf to 1.13193, saving model to segnet_grey.h5\n",
      "Epoch 2/30\n",
      "536/536 [==============================] - ETA: 12:16 - loss: 0.6292 - mean_iou: 0.1320 - acc: 0.738 - ETA: 11:30 - loss: 0.6522 - mean_iou: 0.1325 - acc: 0.723 - ETA: 10:43 - loss: 0.6390 - mean_iou: 0.1326 - acc: 0.731 - ETA: 9:57 - loss: 0.6368 - mean_iou: 0.1331 - acc: 0.727 - ETA: 9:01 - loss: 0.6356 - mean_iou: 0.1335 - acc: 0.73 - ETA: 8:16 - loss: 0.6350 - mean_iou: 0.1340 - acc: 0.73 - ETA: 7:30 - loss: 0.6337 - mean_iou: 0.1345 - acc: 0.74 - ETA: 6:45 - loss: 0.6356 - mean_iou: 0.1350 - acc: 0.74 - ETA: 6:00 - loss: 0.6344 - mean_iou: 0.1355 - acc: 0.74 - ETA: 5:13 - loss: 0.6324 - mean_iou: 0.1361 - acc: 0.74 - ETA: 4:27 - loss: 0.6309 - mean_iou: 0.1367 - acc: 0.75 - ETA: 3:39 - loss: 0.6315 - mean_iou: 0.1373 - acc: 0.75 - ETA: 2:53 - loss: 0.6294 - mean_iou: 0.1379 - acc: 0.75 - ETA: 2:07 - loss: 0.6272 - mean_iou: 0.1385 - acc: 0.75 - ETA: 1:21 - loss: 0.6251 - mean_iou: 0.1390 - acc: 0.75 - ETA: 34s - loss: 0.6234 - mean_iou: 0.1396 - acc: 0.7527 - 841s 2s/step - loss: 0.6221 - mean_iou: 0.1400 - acc: 0.7525 - val_loss: 0.5798 - val_mean_iou: 0.1521 - val_acc: 0.8274\n",
      "\n",
      "Epoch 00002: val_loss improved from 1.13193 to 0.57976, saving model to segnet_grey.h5\n",
      "Epoch 3/30\n",
      "536/536 [==============================] - ETA: 11:37 - loss: 0.6320 - mean_iou: 0.1539 - acc: 0.760 - ETA: 11:07 - loss: 0.6212 - mean_iou: 0.1544 - acc: 0.758 - ETA: 10:29 - loss: 0.6123 - mean_iou: 0.1548 - acc: 0.774 - ETA: 9:51 - loss: 0.6025 - mean_iou: 0.1552 - acc: 0.781 - ETA: 9:06 - loss: 0.5991 - mean_iou: 0.1556 - acc: 0.77 - ETA: 8:19 - loss: 0.5999 - mean_iou: 0.1559 - acc: 0.77 - ETA: 7:33 - loss: 0.5972 - mean_iou: 0.1563 - acc: 0.77 - ETA: 6:43 - loss: 0.5923 - mean_iou: 0.1567 - acc: 0.78 - ETA: 5:58 - loss: 0.5920 - mean_iou: 0.1573 - acc: 0.78 - ETA: 5:11 - loss: 0.5901 - mean_iou: 0.1578 - acc: 0.78 - ETA: 4:25 - loss: 0.5930 - mean_iou: 0.1584 - acc: 0.78 - ETA: 3:39 - loss: 0.5923 - mean_iou: 0.1590 - acc: 0.78 - ETA: 2:53 - loss: 0.5922 - mean_iou: 0.1595 - acc: 0.78 - ETA: 2:07 - loss: 0.5921 - mean_iou: 0.1601 - acc: 0.78 - ETA: 1:20 - loss: 0.5911 - mean_iou: 0.1606 - acc: 0.78 - ETA: 34s - loss: 0.5907 - mean_iou: 0.1611 - acc: 0.7846 - 838s 2s/step - loss: 0.5896 - mean_iou: 0.1614 - acc: 0.7867 - val_loss: 0.6875 - val_mean_iou: 0.1740 - val_acc: 0.7843\n",
      "\n",
      "Epoch 00003: val_loss did not improve\n",
      "Epoch 4/30\n",
      "536/536 [==============================] - ETA: 12:20 - loss: 0.5818 - mean_iou: 0.1797 - acc: 0.815 - ETA: 11:38 - loss: 0.5777 - mean_iou: 0.1799 - acc: 0.814 - ETA: 10:41 - loss: 0.5832 - mean_iou: 0.1803 - acc: 0.796 - ETA: 9:46 - loss: 0.5813 - mean_iou: 0.1805 - acc: 0.793 - ETA: 9:02 - loss: 0.5794 - mean_iou: 0.1808 - acc: 0.78 - ETA: 8:18 - loss: 0.5827 - mean_iou: 0.1810 - acc: 0.78 - ETA: 7:32 - loss: 0.5812 - mean_iou: 0.1812 - acc: 0.78 - ETA: 6:45 - loss: 0.5805 - mean_iou: 0.1815 - acc: 0.78 - ETA: 6:00 - loss: 0.5780 - mean_iou: 0.1818 - acc: 0.78 - ETA: 5:11 - loss: 0.5781 - mean_iou: 0.1821 - acc: 0.79 - ETA: 4:25 - loss: 0.5770 - mean_iou: 0.1824 - acc: 0.79 - ETA: 3:39 - loss: 0.5772 - mean_iou: 0.1827 - acc: 0.79 - ETA: 2:53 - loss: 0.5757 - mean_iou: 0.1830 - acc: 0.79 - ETA: 2:07 - loss: 0.5750 - mean_iou: 0.1834 - acc: 0.80 - ETA: 1:21 - loss: 0.5749 - mean_iou: 0.1837 - acc: 0.80 - ETA: 34s - loss: 0.5740 - mean_iou: 0.1840 - acc: 0.8048 - 836s 2s/step - loss: 0.5741 - mean_iou: 0.1843 - acc: 0.8036 - val_loss: 0.5032 - val_mean_iou: 0.1901 - val_acc: 0.8852\n",
      "\n",
      "Epoch 00004: val_loss improved from 0.57976 to 0.50318, saving model to segnet_grey.h5\n",
      "Epoch 5/30\n",
      "536/536 [==============================] - ETA: 12:21 - loss: 0.5729 - mean_iou: 0.1903 - acc: 0.796 - ETA: 11:26 - loss: 0.5561 - mean_iou: 0.1906 - acc: 0.804 - ETA: 10:43 - loss: 0.5520 - mean_iou: 0.1910 - acc: 0.804 - ETA: 9:57 - loss: 0.5554 - mean_iou: 0.1913 - acc: 0.803 - ETA: 9:09 - loss: 0.5538 - mean_iou: 0.1917 - acc: 0.80 - ETA: 8:19 - loss: 0.5589 - mean_iou: 0.1920 - acc: 0.80 - ETA: 7:32 - loss: 0.5596 - mean_iou: 0.1924 - acc: 0.80 - ETA: 6:46 - loss: 0.5586 - mean_iou: 0.1927 - acc: 0.80 - ETA: 6:01 - loss: 0.5593 - mean_iou: 0.1930 - acc: 0.81 - ETA: 5:13 - loss: 0.5601 - mean_iou: 0.1932 - acc: 0.81 - ETA: 4:27 - loss: 0.5617 - mean_iou: 0.1935 - acc: 0.81 - ETA: 3:41 - loss: 0.5606 - mean_iou: 0.1938 - acc: 0.81 - ETA: 2:53 - loss: 0.5616 - mean_iou: 0.1940 - acc: 0.81 - ETA: 2:07 - loss: 0.5594 - mean_iou: 0.1943 - acc: 0.81 - ETA: 1:21 - loss: 0.5601 - mean_iou: 0.1946 - acc: 0.81 - ETA: 34s - loss: 0.5599 - mean_iou: 0.1948 - acc: 0.8161 - 840s 2s/step - loss: 0.5595 - mean_iou: 0.1950 - acc: 0.8154 - val_loss: 0.4990 - val_mean_iou: 0.1999 - val_acc: 0.8851\n",
      "\n",
      "Epoch 00005: val_loss improved from 0.50318 to 0.49897, saving model to segnet_grey.h5\n",
      "Epoch 6/30\n",
      "536/536 [==============================] - ETA: 12:37 - loss: 0.5424 - mean_iou: 0.1996 - acc: 0.806 - ETA: 11:15 - loss: 0.5509 - mean_iou: 0.1998 - acc: 0.805 - ETA: 10:35 - loss: 0.5563 - mean_iou: 0.1999 - acc: 0.804 - ETA: 9:53 - loss: 0.5572 - mean_iou: 0.2001 - acc: 0.804 - ETA: 9:05 - loss: 0.5557 - mean_iou: 0.2004 - acc: 0.80 - ETA: 8:18 - loss: 0.5551 - mean_iou: 0.2006 - acc: 0.80 - ETA: 7:33 - loss: 0.5543 - mean_iou: 0.2009 - acc: 0.81 - ETA: 6:46 - loss: 0.5536 - mean_iou: 0.2012 - acc: 0.81 - ETA: 5:58 - loss: 0.5525 - mean_iou: 0.2014 - acc: 0.81 - ETA: 5:11 - loss: 0.5514 - mean_iou: 0.2017 - acc: 0.82 - ETA: 4:25 - loss: 0.5518 - mean_iou: 0.2020 - acc: 0.82 - ETA: 3:39 - loss: 0.5520 - mean_iou: 0.2022 - acc: 0.82 - ETA: 2:53 - loss: 0.5514 - mean_iou: 0.2025 - acc: 0.82 - ETA: 2:07 - loss: 0.5503 - mean_iou: 0.2028 - acc: 0.83 - ETA: 1:21 - loss: 0.5484 - mean_iou: 0.2030 - acc: 0.83 - ETA: 34s - loss: 0.5471 - mean_iou: 0.2033 - acc: 0.8332 - 839s 2s/step - loss: 0.5465 - mean_iou: 0.2035 - acc: 0.8328 - val_loss: 0.5724 - val_mean_iou: 0.2090 - val_acc: 0.8353\n",
      "\n",
      "Epoch 00006: val_loss did not improve\n",
      "Epoch 7/30\n",
      "536/536 [==============================] - ETA: 12:20 - loss: 0.5164 - mean_iou: 0.2104 - acc: 0.849 - ETA: 11:34 - loss: 0.5295 - mean_iou: 0.2108 - acc: 0.837 - ETA: 10:41 - loss: 0.5241 - mean_iou: 0.2111 - acc: 0.839 - ETA: 9:52 - loss: 0.5289 - mean_iou: 0.2114 - acc: 0.838 - ETA: 8:59 - loss: 0.5315 - mean_iou: 0.2117 - acc: 0.84 - ETA: 8:15 - loss: 0.5371 - mean_iou: 0.2120 - acc: 0.84 - ETA: 7:29 - loss: 0.5387 - mean_iou: 0.2124 - acc: 0.84 - ETA: 6:44 - loss: 0.5397 - mean_iou: 0.2126 - acc: 0.84 - ETA: 5:59 - loss: 0.5419 - mean_iou: 0.2128 - acc: 0.84 - ETA: 5:13 - loss: 0.5430 - mean_iou: 0.2130 - acc: 0.84 - ETA: 4:26 - loss: 0.5414 - mean_iou: 0.2132 - acc: 0.84 - ETA: 3:39 - loss: 0.5413 - mean_iou: 0.2134 - acc: 0.84 - ETA: 2:53 - loss: 0.5421 - mean_iou: 0.2135 - acc: 0.84 - ETA: 2:07 - loss: 0.5432 - mean_iou: 0.2136 - acc: 0.84 - ETA: 1:21 - loss: 0.5449 - mean_iou: 0.2138 - acc: 0.84 - ETA: 34s - loss: 0.5433 - mean_iou: 0.2140 - acc: 0.8438 - 838s 2s/step - loss: 0.5419 - mean_iou: 0.2141 - acc: 0.8445 - val_loss: 0.5453 - val_mean_iou: 0.2180 - val_acc: 0.8633\n"
     ]
    },
    {
     "name": "stdout",
     "output_type": "stream",
     "text": [
      "\n",
      "Epoch 00007: val_loss did not improve\n",
      "Epoch 8/30\n",
      "536/536 [==============================] - ETA: 12:08 - loss: 0.5265 - mean_iou: 0.2192 - acc: 0.843 - ETA: 11:20 - loss: 0.5224 - mean_iou: 0.2193 - acc: 0.853 - ETA: 10:39 - loss: 0.5292 - mean_iou: 0.2195 - acc: 0.848 - ETA: 9:56 - loss: 0.5302 - mean_iou: 0.2198 - acc: 0.843 - ETA: 9:10 - loss: 0.5328 - mean_iou: 0.2200 - acc: 0.84 - ETA: 8:22 - loss: 0.5368 - mean_iou: 0.2202 - acc: 0.84 - ETA: 7:34 - loss: 0.5395 - mean_iou: 0.2204 - acc: 0.84 - ETA: 6:46 - loss: 0.5402 - mean_iou: 0.2205 - acc: 0.84 - ETA: 6:01 - loss: 0.5363 - mean_iou: 0.2207 - acc: 0.84 - ETA: 5:14 - loss: 0.5350 - mean_iou: 0.2209 - acc: 0.84 - ETA: 4:27 - loss: 0.5352 - mean_iou: 0.2211 - acc: 0.84 - ETA: 3:41 - loss: 0.5352 - mean_iou: 0.2213 - acc: 0.84 - ETA: 2:54 - loss: 0.5357 - mean_iou: 0.2215 - acc: 0.84 - ETA: 2:07 - loss: 0.5348 - mean_iou: 0.2216 - acc: 0.84 - ETA: 1:21 - loss: 0.5343 - mean_iou: 0.2218 - acc: 0.84 - ETA: 35s - loss: 0.5327 - mean_iou: 0.2219 - acc: 0.8499 - 849s 2s/step - loss: 0.5308 - mean_iou: 0.2221 - acc: 0.8515 - val_loss: 0.5803 - val_mean_iou: 0.2263 - val_acc: 0.8473\n",
      "\n",
      "Epoch 00008: val_loss did not improve\n",
      "Epoch 9/30\n",
      "536/536 [==============================] - ETA: 12:08 - loss: 0.5210 - mean_iou: 0.2280 - acc: 0.866 - ETA: 11:37 - loss: 0.5283 - mean_iou: 0.2282 - acc: 0.860 - ETA: 10:35 - loss: 0.5314 - mean_iou: 0.2284 - acc: 0.862 - ETA: 9:55 - loss: 0.5303 - mean_iou: 0.2286 - acc: 0.864 - ETA: 9:09 - loss: 0.5287 - mean_iou: 0.2288 - acc: 0.86 - ETA: 8:22 - loss: 0.5258 - mean_iou: 0.2290 - acc: 0.86 - ETA: 7:36 - loss: 0.5254 - mean_iou: 0.2292 - acc: 0.86 - ETA: 6:48 - loss: 0.5264 - mean_iou: 0.2293 - acc: 0.86 - ETA: 6:02 - loss: 0.5252 - mean_iou: 0.2295 - acc: 0.87 - ETA: 5:12 - loss: 0.5239 - mean_iou: 0.2297 - acc: 0.87 - ETA: 4:26 - loss: 0.5240 - mean_iou: 0.2298 - acc: 0.86 - ETA: 3:40 - loss: 0.5241 - mean_iou: 0.2300 - acc: 0.86 - ETA: 2:54 - loss: 0.5226 - mean_iou: 0.2302 - acc: 0.86 - ETA: 2:07 - loss: 0.5231 - mean_iou: 0.2304 - acc: 0.86 - ETA: 1:21 - loss: 0.5225 - mean_iou: 0.2305 - acc: 0.86 - ETA: 34s - loss: 0.5213 - mean_iou: 0.2307 - acc: 0.8651 - 845s 2s/step - loss: 0.5205 - mean_iou: 0.2308 - acc: 0.8655 - val_loss: 0.5413 - val_mean_iou: 0.2343 - val_acc: 0.8786\n",
      "\n",
      "Epoch 00009: val_loss did not improve\n",
      "Epoch 10/30\n",
      "536/536 [==============================] - ETA: 12:32 - loss: 0.4872 - mean_iou: 0.2352 - acc: 0.889 - ETA: 11:37 - loss: 0.5015 - mean_iou: 0.2355 - acc: 0.874 - ETA: 10:48 - loss: 0.5199 - mean_iou: 0.2357 - acc: 0.855 - ETA: 10:00 - loss: 0.5234 - mean_iou: 0.2358 - acc: 0.853 - ETA: 9:11 - loss: 0.5244 - mean_iou: 0.2360 - acc: 0.849 - ETA: 8:22 - loss: 0.5234 - mean_iou: 0.2361 - acc: 0.85 - ETA: 7:34 - loss: 0.5227 - mean_iou: 0.2362 - acc: 0.85 - ETA: 6:49 - loss: 0.5210 - mean_iou: 0.2364 - acc: 0.85 - ETA: 6:03 - loss: 0.5197 - mean_iou: 0.2365 - acc: 0.85 - ETA: 5:16 - loss: 0.5195 - mean_iou: 0.2366 - acc: 0.85 - ETA: 4:31 - loss: 0.5198 - mean_iou: 0.2367 - acc: 0.85 - ETA: 3:44 - loss: 0.5179 - mean_iou: 0.2368 - acc: 0.85 - ETA: 2:56 - loss: 0.5178 - mean_iou: 0.2369 - acc: 0.85 - ETA: 2:09 - loss: 0.5172 - mean_iou: 0.2370 - acc: 0.85 - ETA: 1:22 - loss: 0.5168 - mean_iou: 0.2371 - acc: 0.86 - ETA: 35s - loss: 0.5183 - mean_iou: 0.2373 - acc: 0.8616 - 852s 2s/step - loss: 0.5178 - mean_iou: 0.2374 - acc: 0.8628 - val_loss: 0.5012 - val_mean_iou: 0.2402 - val_acc: 0.9124\n",
      "\n",
      "Epoch 00010: val_loss did not improve\n",
      "Epoch 00010: early stopping\n"
     ]
    },
    {
     "ename": "ValueError",
     "evalue": "Unknown metric function:mean_iou",
     "output_type": "error",
     "traceback": [
      "\u001b[1;31m---------------------------------------------------------------------------\u001b[0m",
      "\u001b[1;31mValueError\u001b[0m                                Traceback (most recent call last)",
      "\u001b[1;32m<ipython-input-5-02b2c09e1a2e>\u001b[0m in \u001b[0;36m<module>\u001b[1;34m()\u001b[0m\n\u001b[1;32m----> 1\u001b[1;33m \u001b[0msegnet_model\u001b[0m\u001b[1;33m.\u001b[0m\u001b[0mtrain\u001b[0m\u001b[1;33m(\u001b[0m\u001b[0mX_train\u001b[0m\u001b[1;33m=\u001b[0m\u001b[0mX_train\u001b[0m\u001b[1;33m,\u001b[0m \u001b[0my_train\u001b[0m\u001b[1;33m=\u001b[0m\u001b[0my_train\u001b[0m\u001b[1;33m,\u001b[0m \u001b[0mmodel_name\u001b[0m\u001b[1;33m=\u001b[0m\u001b[1;34m'segnet_grey.h5'\u001b[0m\u001b[1;33m,\u001b[0m \u001b[0mvalidation_split\u001b[0m\u001b[1;33m=\u001b[0m\u001b[1;36m0.2\u001b[0m\u001b[1;33m,\u001b[0m \u001b[0mepochs\u001b[0m\u001b[1;33m=\u001b[0m\u001b[1;36m30\u001b[0m\u001b[1;33m,\u001b[0m \u001b[0mverbose\u001b[0m\u001b[1;33m=\u001b[0m\u001b[1;36m1\u001b[0m\u001b[1;33m)\u001b[0m\u001b[1;33m\u001b[0m\u001b[0m\n\u001b[0m",
      "\u001b[1;32m~\\Documents\\Project\\KaggleDetectNuclei\\code\\lib\\segnet.py\u001b[0m in \u001b[0;36mtrain\u001b[1;34m(self, X_train, y_train, model_name, validation_split, batch_size, epochs, verbose)\u001b[0m\n\u001b[0;32m    143\u001b[0m                                 \u001b[0mshuffle\u001b[0m\u001b[1;33m=\u001b[0m\u001b[1;32mTrue\u001b[0m\u001b[1;33m,\u001b[0m\u001b[1;33m\u001b[0m\u001b[0m\n\u001b[0;32m    144\u001b[0m                                 callbacks=[early_stopper, check_pointer])\n\u001b[1;32m--> 145\u001b[1;33m         \u001b[0mself\u001b[0m\u001b[1;33m.\u001b[0m\u001b[0mmodel\u001b[0m \u001b[1;33m=\u001b[0m \u001b[0mload_model\u001b[0m\u001b[1;33m(\u001b[0m\u001b[0mmodel_name\u001b[0m\u001b[1;33m)\u001b[0m\u001b[1;33m\u001b[0m\u001b[0m\n\u001b[0m\u001b[0;32m    146\u001b[0m         \u001b[0mprint\u001b[0m\u001b[1;33m(\u001b[0m\u001b[1;34m'Done'\u001b[0m\u001b[1;33m)\u001b[0m\u001b[1;33m\u001b[0m\u001b[0m\n\u001b[0;32m    147\u001b[0m \u001b[1;33m\u001b[0m\u001b[0m\n",
      "\u001b[1;32mC:\\ScientificTools\\Anaconda3\\lib\\site-packages\\keras\\models.py\u001b[0m in \u001b[0;36mload_model\u001b[1;34m(filepath, custom_objects, compile)\u001b[0m\n\u001b[0;32m    272\u001b[0m                       \u001b[0mmetrics\u001b[0m\u001b[1;33m=\u001b[0m\u001b[0mmetrics\u001b[0m\u001b[1;33m,\u001b[0m\u001b[1;33m\u001b[0m\u001b[0m\n\u001b[0;32m    273\u001b[0m                       \u001b[0mloss_weights\u001b[0m\u001b[1;33m=\u001b[0m\u001b[0mloss_weights\u001b[0m\u001b[1;33m,\u001b[0m\u001b[1;33m\u001b[0m\u001b[0m\n\u001b[1;32m--> 274\u001b[1;33m                       sample_weight_mode=sample_weight_mode)\n\u001b[0m\u001b[0;32m    275\u001b[0m \u001b[1;33m\u001b[0m\u001b[0m\n\u001b[0;32m    276\u001b[0m         \u001b[1;31m# Set optimizer weights.\u001b[0m\u001b[1;33m\u001b[0m\u001b[1;33m\u001b[0m\u001b[0m\n",
      "\u001b[1;32mC:\\ScientificTools\\Anaconda3\\lib\\site-packages\\keras\\engine\\training.py\u001b[0m in \u001b[0;36mcompile\u001b[1;34m(self, optimizer, loss, metrics, loss_weights, sample_weight_mode, weighted_metrics, target_tensors, **kwargs)\u001b[0m\n\u001b[0;32m    932\u001b[0m                             \u001b[0mself\u001b[0m\u001b[1;33m.\u001b[0m\u001b[0mmetrics_updates\u001b[0m \u001b[1;33m+=\u001b[0m \u001b[0mmetric_fn\u001b[0m\u001b[1;33m.\u001b[0m\u001b[0mupdates\u001b[0m\u001b[1;33m\u001b[0m\u001b[0m\n\u001b[0;32m    933\u001b[0m \u001b[1;33m\u001b[0m\u001b[0m\n\u001b[1;32m--> 934\u001b[1;33m                 \u001b[0mhandle_metrics\u001b[0m\u001b[1;33m(\u001b[0m\u001b[0moutput_metrics\u001b[0m\u001b[1;33m)\u001b[0m\u001b[1;33m\u001b[0m\u001b[0m\n\u001b[0m\u001b[0;32m    935\u001b[0m                 \u001b[0mhandle_metrics\u001b[0m\u001b[1;33m(\u001b[0m\u001b[0moutput_weighted_metrics\u001b[0m\u001b[1;33m,\u001b[0m \u001b[0mweights\u001b[0m\u001b[1;33m=\u001b[0m\u001b[0mweights\u001b[0m\u001b[1;33m)\u001b[0m\u001b[1;33m\u001b[0m\u001b[0m\n\u001b[0;32m    936\u001b[0m \u001b[1;33m\u001b[0m\u001b[0m\n",
      "\u001b[1;32mC:\\ScientificTools\\Anaconda3\\lib\\site-packages\\keras\\engine\\training.py\u001b[0m in \u001b[0;36mhandle_metrics\u001b[1;34m(metrics, weights)\u001b[0m\n\u001b[0;32m    899\u001b[0m                             \u001b[0mmetric_name\u001b[0m \u001b[1;33m=\u001b[0m \u001b[0mmetric_name_prefix\u001b[0m \u001b[1;33m+\u001b[0m \u001b[0msuffix\u001b[0m\u001b[1;33m\u001b[0m\u001b[0m\n\u001b[0;32m    900\u001b[0m                         \u001b[1;32melse\u001b[0m\u001b[1;33m:\u001b[0m\u001b[1;33m\u001b[0m\u001b[0m\n\u001b[1;32m--> 901\u001b[1;33m                             \u001b[0mmetric_fn\u001b[0m \u001b[1;33m=\u001b[0m \u001b[0mmetrics_module\u001b[0m\u001b[1;33m.\u001b[0m\u001b[0mget\u001b[0m\u001b[1;33m(\u001b[0m\u001b[0mmetric\u001b[0m\u001b[1;33m)\u001b[0m\u001b[1;33m\u001b[0m\u001b[0m\n\u001b[0m\u001b[0;32m    902\u001b[0m                             \u001b[0mweighted_metric_fn\u001b[0m \u001b[1;33m=\u001b[0m \u001b[0m_weighted_masked_objective\u001b[0m\u001b[1;33m(\u001b[0m\u001b[0mmetric_fn\u001b[0m\u001b[1;33m)\u001b[0m\u001b[1;33m\u001b[0m\u001b[0m\n\u001b[0;32m    903\u001b[0m                             \u001b[1;31m# Get metric name as string\u001b[0m\u001b[1;33m\u001b[0m\u001b[1;33m\u001b[0m\u001b[0m\n",
      "\u001b[1;32mC:\\ScientificTools\\Anaconda3\\lib\\site-packages\\keras\\metrics.py\u001b[0m in \u001b[0;36mget\u001b[1;34m(identifier)\u001b[0m\n\u001b[0;32m     73\u001b[0m         \u001b[1;32mreturn\u001b[0m \u001b[0mdeserialize\u001b[0m\u001b[1;33m(\u001b[0m\u001b[0mconfig\u001b[0m\u001b[1;33m)\u001b[0m\u001b[1;33m\u001b[0m\u001b[0m\n\u001b[0;32m     74\u001b[0m     \u001b[1;32melif\u001b[0m \u001b[0misinstance\u001b[0m\u001b[1;33m(\u001b[0m\u001b[0midentifier\u001b[0m\u001b[1;33m,\u001b[0m \u001b[0msix\u001b[0m\u001b[1;33m.\u001b[0m\u001b[0mstring_types\u001b[0m\u001b[1;33m)\u001b[0m\u001b[1;33m:\u001b[0m\u001b[1;33m\u001b[0m\u001b[0m\n\u001b[1;32m---> 75\u001b[1;33m         \u001b[1;32mreturn\u001b[0m \u001b[0mdeserialize\u001b[0m\u001b[1;33m(\u001b[0m\u001b[0mstr\u001b[0m\u001b[1;33m(\u001b[0m\u001b[0midentifier\u001b[0m\u001b[1;33m)\u001b[0m\u001b[1;33m)\u001b[0m\u001b[1;33m\u001b[0m\u001b[0m\n\u001b[0m\u001b[0;32m     76\u001b[0m     \u001b[1;32melif\u001b[0m \u001b[0mcallable\u001b[0m\u001b[1;33m(\u001b[0m\u001b[0midentifier\u001b[0m\u001b[1;33m)\u001b[0m\u001b[1;33m:\u001b[0m\u001b[1;33m\u001b[0m\u001b[0m\n\u001b[0;32m     77\u001b[0m         \u001b[1;32mreturn\u001b[0m \u001b[0midentifier\u001b[0m\u001b[1;33m\u001b[0m\u001b[0m\n",
      "\u001b[1;32mC:\\ScientificTools\\Anaconda3\\lib\\site-packages\\keras\\metrics.py\u001b[0m in \u001b[0;36mdeserialize\u001b[1;34m(config, custom_objects)\u001b[0m\n\u001b[0;32m     65\u001b[0m                                     \u001b[0mmodule_objects\u001b[0m\u001b[1;33m=\u001b[0m\u001b[0mglobals\u001b[0m\u001b[1;33m(\u001b[0m\u001b[1;33m)\u001b[0m\u001b[1;33m,\u001b[0m\u001b[1;33m\u001b[0m\u001b[0m\n\u001b[0;32m     66\u001b[0m                                     \u001b[0mcustom_objects\u001b[0m\u001b[1;33m=\u001b[0m\u001b[0mcustom_objects\u001b[0m\u001b[1;33m,\u001b[0m\u001b[1;33m\u001b[0m\u001b[0m\n\u001b[1;32m---> 67\u001b[1;33m                                     printable_module_name='metric function')\n\u001b[0m\u001b[0;32m     68\u001b[0m \u001b[1;33m\u001b[0m\u001b[0m\n\u001b[0;32m     69\u001b[0m \u001b[1;33m\u001b[0m\u001b[0m\n",
      "\u001b[1;32mC:\\ScientificTools\\Anaconda3\\lib\\site-packages\\keras\\utils\\generic_utils.py\u001b[0m in \u001b[0;36mdeserialize_keras_object\u001b[1;34m(identifier, module_objects, custom_objects, printable_module_name)\u001b[0m\n\u001b[0;32m    162\u001b[0m             \u001b[1;32mif\u001b[0m \u001b[0mfn\u001b[0m \u001b[1;32mis\u001b[0m \u001b[1;32mNone\u001b[0m\u001b[1;33m:\u001b[0m\u001b[1;33m\u001b[0m\u001b[0m\n\u001b[0;32m    163\u001b[0m                 raise ValueError('Unknown ' + printable_module_name +\n\u001b[1;32m--> 164\u001b[1;33m                                  ':' + function_name)\n\u001b[0m\u001b[0;32m    165\u001b[0m         \u001b[1;32mreturn\u001b[0m \u001b[0mfn\u001b[0m\u001b[1;33m\u001b[0m\u001b[0m\n\u001b[0;32m    166\u001b[0m     \u001b[1;32melse\u001b[0m\u001b[1;33m:\u001b[0m\u001b[1;33m\u001b[0m\u001b[0m\n",
      "\u001b[1;31mValueError\u001b[0m: Unknown metric function:mean_iou"
     ]
    }
   ],
   "source": [
    "segnet_model.train(X_train=X_train, y_train=y_train, model_name='segnet_grey.h5', validation_split=0.2, epochs=30, verbose=1)"
   ]
  }
 ],
 "metadata": {
  "kernelspec": {
   "display_name": "Python 3",
   "language": "python",
   "name": "python3"
  },
  "language_info": {
   "codemirror_mode": {
    "name": "ipython",
    "version": 3
   },
   "file_extension": ".py",
   "mimetype": "text/x-python",
   "name": "python",
   "nbconvert_exporter": "python",
   "pygments_lexer": "ipython3",
   "version": "3.6.4"
  }
 },
 "nbformat": 4,
 "nbformat_minor": 2
}
