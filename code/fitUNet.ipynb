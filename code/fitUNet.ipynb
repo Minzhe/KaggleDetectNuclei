{
 "cells": [
  {
   "cell_type": "code",
   "execution_count": 1,
   "metadata": {},
   "outputs": [
    {
     "name": "stderr",
     "output_type": "stream",
     "text": [
      "C:\\ScientificTools\\Anaconda3\\lib\\site-packages\\h5py\\__init__.py:36: FutureWarning: Conversion of the second argument of issubdtype from `float` to `np.floating` is deprecated. In future, it will be treated as `np.float64 == np.dtype(float).type`.\n",
      "  from ._conv import register_converters as _register_converters\n",
      "Using TensorFlow backend.\n"
     ]
    }
   ],
   "source": [
    "from utility import getResizeDiscolorImage, getResizeMask, restoreMasks, convert2Sub\n",
    "from lib.unet import unet\n",
    "from lib.metrics import *\n",
    "from skimage.io import imshow\n",
    "\n",
    "import matplotlib.pyplot as plt\n",
    "\n",
    "import pandas as pd\n",
    "\n",
    "TRAIN_PATH = '../data/stage1_train/'"
   ]
  },
  {
   "cell_type": "markdown",
   "metadata": {},
   "source": [
    "### read data"
   ]
  },
  {
   "cell_type": "code",
   "execution_count": 2,
   "metadata": {},
   "outputs": [
    {
     "name": "stdout",
     "output_type": "stream",
     "text": [
      "Getting and resizing images ... \n"
     ]
    },
    {
     "name": "stderr",
     "output_type": "stream",
     "text": [
      "100%|██████████| 670/670 [00:09<00:00, 70.12it/s]\n"
     ]
    },
    {
     "name": "stdout",
     "output_type": "stream",
     "text": [
      "Getting and resizing masks ... \n"
     ]
    },
    {
     "name": "stderr",
     "output_type": "stream",
     "text": [
      "100%|██████████| 670/670 [02:52<00:00,  3.87it/s]\n"
     ]
    }
   ],
   "source": [
    "X_train, ids_train, sizes_train, ids_col = getResizeDiscolorImage(path=TRAIN_PATH, height=256, width=256)\n",
    "y_train = getResizeMask(path=TRAIN_PATH, height=256, width=256, threshold=0.5)"
   ]
  },
  {
   "cell_type": "markdown",
   "metadata": {},
   "source": [
    "### fit U-Net model"
   ]
  },
  {
   "cell_type": "code",
   "execution_count": 11,
   "metadata": {},
   "outputs": [
    {
     "name": "stdout",
     "output_type": "stream",
     "text": [
      "Initilizing U-Net model ... Done\n",
      "Model structure summary:\n",
      "__________________________________________________________________________________________________\n",
      "Layer (type)                    Output Shape         Param #     Connected to                     \n",
      "==================================================================================================\n",
      "input_2 (InputLayer)            (None, 256, 256, 1)  0                                            \n",
      "__________________________________________________________________________________________________\n",
      "conv2d_20 (Conv2D)              (None, 256, 256, 16) 160         input_2[0][0]                    \n",
      "__________________________________________________________________________________________________\n",
      "conv2d_21 (Conv2D)              (None, 256, 256, 16) 2320        conv2d_20[0][0]                  \n",
      "__________________________________________________________________________________________________\n",
      "max_pooling2d_5 (MaxPooling2D)  (None, 128, 128, 16) 0           conv2d_21[0][0]                  \n",
      "__________________________________________________________________________________________________\n",
      "conv2d_22 (Conv2D)              (None, 128, 128, 32) 4640        max_pooling2d_5[0][0]            \n",
      "__________________________________________________________________________________________________\n",
      "conv2d_23 (Conv2D)              (None, 128, 128, 32) 9248        conv2d_22[0][0]                  \n",
      "__________________________________________________________________________________________________\n",
      "max_pooling2d_6 (MaxPooling2D)  (None, 64, 64, 32)   0           conv2d_23[0][0]                  \n",
      "__________________________________________________________________________________________________\n",
      "conv2d_24 (Conv2D)              (None, 64, 64, 64)   18496       max_pooling2d_6[0][0]            \n",
      "__________________________________________________________________________________________________\n",
      "conv2d_25 (Conv2D)              (None, 64, 64, 64)   36928       conv2d_24[0][0]                  \n",
      "__________________________________________________________________________________________________\n",
      "max_pooling2d_7 (MaxPooling2D)  (None, 32, 32, 64)   0           conv2d_25[0][0]                  \n",
      "__________________________________________________________________________________________________\n",
      "conv2d_26 (Conv2D)              (None, 32, 32, 128)  73856       max_pooling2d_7[0][0]            \n",
      "__________________________________________________________________________________________________\n",
      "conv2d_27 (Conv2D)              (None, 32, 32, 128)  147584      conv2d_26[0][0]                  \n",
      "__________________________________________________________________________________________________\n",
      "max_pooling2d_8 (MaxPooling2D)  (None, 16, 16, 128)  0           conv2d_27[0][0]                  \n",
      "__________________________________________________________________________________________________\n",
      "conv2d_28 (Conv2D)              (None, 16, 16, 256)  295168      max_pooling2d_8[0][0]            \n",
      "__________________________________________________________________________________________________\n",
      "conv2d_29 (Conv2D)              (None, 16, 16, 256)  590080      conv2d_28[0][0]                  \n",
      "__________________________________________________________________________________________________\n",
      "conv2d_transpose_5 (Conv2DTrans (None, 32, 32, 128)  131200      conv2d_29[0][0]                  \n",
      "__________________________________________________________________________________________________\n",
      "concatenate_5 (Concatenate)     (None, 32, 32, 256)  0           conv2d_transpose_5[0][0]         \n",
      "                                                                 conv2d_27[0][0]                  \n",
      "__________________________________________________________________________________________________\n",
      "conv2d_30 (Conv2D)              (None, 32, 32, 128)  295040      concatenate_5[0][0]              \n",
      "__________________________________________________________________________________________________\n",
      "conv2d_31 (Conv2D)              (None, 32, 32, 128)  147584      conv2d_30[0][0]                  \n",
      "__________________________________________________________________________________________________\n",
      "conv2d_transpose_6 (Conv2DTrans (None, 64, 64, 64)   32832       conv2d_31[0][0]                  \n",
      "__________________________________________________________________________________________________\n",
      "concatenate_6 (Concatenate)     (None, 64, 64, 128)  0           conv2d_transpose_6[0][0]         \n",
      "                                                                 conv2d_25[0][0]                  \n",
      "__________________________________________________________________________________________________\n",
      "conv2d_32 (Conv2D)              (None, 64, 64, 64)   73792       concatenate_6[0][0]              \n",
      "__________________________________________________________________________________________________\n",
      "conv2d_33 (Conv2D)              (None, 64, 64, 64)   36928       conv2d_32[0][0]                  \n",
      "__________________________________________________________________________________________________\n",
      "conv2d_transpose_7 (Conv2DTrans (None, 128, 128, 32) 8224        conv2d_33[0][0]                  \n",
      "__________________________________________________________________________________________________\n",
      "concatenate_7 (Concatenate)     (None, 128, 128, 64) 0           conv2d_transpose_7[0][0]         \n",
      "                                                                 conv2d_23[0][0]                  \n",
      "__________________________________________________________________________________________________\n",
      "conv2d_34 (Conv2D)              (None, 128, 128, 32) 18464       concatenate_7[0][0]              \n",
      "__________________________________________________________________________________________________\n",
      "conv2d_35 (Conv2D)              (None, 128, 128, 32) 9248        conv2d_34[0][0]                  \n",
      "__________________________________________________________________________________________________\n",
      "conv2d_transpose_8 (Conv2DTrans (None, 256, 256, 16) 2064        conv2d_35[0][0]                  \n",
      "__________________________________________________________________________________________________\n",
      "concatenate_8 (Concatenate)     (None, 256, 256, 32) 0           conv2d_transpose_8[0][0]         \n",
      "                                                                 conv2d_21[0][0]                  \n",
      "__________________________________________________________________________________________________\n",
      "conv2d_36 (Conv2D)              (None, 256, 256, 16) 4624        concatenate_8[0][0]              \n",
      "__________________________________________________________________________________________________\n",
      "conv2d_37 (Conv2D)              (None, 256, 256, 16) 2320        conv2d_36[0][0]                  \n",
      "__________________________________________________________________________________________________\n",
      "conv2d_38 (Conv2D)              (None, 256, 256, 1)  17          conv2d_37[0][0]                  \n",
      "==================================================================================================\n",
      "Total params: 1,940,817\n",
      "Trainable params: 1,940,817\n",
      "Non-trainable params: 0\n",
      "__________________________________________________________________________________________________\n",
      "None\n"
     ]
    }
   ],
   "source": [
    "unet_model = unet(img_shape=(256,256,1), metrics=[mean_iou, 'accuracy'], init_filters=16, learning_rate=5e-4)"
   ]
  },
  {
   "cell_type": "code",
   "execution_count": 12,
   "metadata": {},
   "outputs": [
    {
     "name": "stdout",
     "output_type": "stream",
     "text": [
      "Start training U-Net ... Train on 536 samples, validate on 134 samples\n",
      "Epoch 1/30\n",
      "536/536 [==============================] - ETA: 3:15 - loss: 0.6955 - mean_iou: 0.0000e+00 - acc: 0.10 - ETA: 2:52 - loss: 0.6940 - mean_iou: 0.0237 - acc: 0.4199   - ETA: 2:37 - loss: 0.6929 - mean_iou: 0.0261 - acc: 0.56 - ETA: 2:26 - loss: 0.6921 - mean_iou: 0.0251 - acc: 0.63 - ETA: 2:15 - loss: 0.6911 - mean_iou: 0.0232 - acc: 0.68 - ETA: 2:03 - loss: 0.6902 - mean_iou: 0.0216 - acc: 0.71 - ETA: 1:50 - loss: 0.6893 - mean_iou: 0.0201 - acc: 0.73 - ETA: 1:38 - loss: 0.6884 - mean_iou: 0.0187 - acc: 0.74 - ETA: 1:27 - loss: 0.6874 - mean_iou: 0.0175 - acc: 0.75 - ETA: 1:16 - loss: 0.6865 - mean_iou: 0.0165 - acc: 0.76 - ETA: 1:05 - loss: 0.6853 - mean_iou: 0.0155 - acc: 0.77 - ETA: 54s - loss: 0.6840 - mean_iou: 0.0147 - acc: 0.7814 - ETA: 44s - loss: 0.6826 - mean_iou: 0.0140 - acc: 0.786 - ETA: 33s - loss: 0.6806 - mean_iou: 0.0133 - acc: 0.789 - ETA: 21s - loss: 0.6780 - mean_iou: 0.0127 - acc: 0.795 - ETA: 9s - loss: 0.6733 - mean_iou: 0.0122 - acc: 0.801 - 248s 463ms/step - loss: 0.6685 - mean_iou: 0.0118 - acc: 0.8047 - val_loss: 0.5184 - val_mean_iou: 0.0034 - val_acc: 0.8655\n",
      "\n",
      "Epoch 00001: val_loss improved from inf to 0.51839, saving model to unet_grey.h5\n",
      "Epoch 2/30\n",
      "536/536 [==============================] - ETA: 4:42 - loss: 0.5348 - mean_iou: 0.0030 - acc: 0.84 - ETA: 4:19 - loss: 0.5553 - mean_iou: 0.0029 - acc: 0.85 - ETA: 3:57 - loss: 0.5211 - mean_iou: 0.0029 - acc: 0.86 - ETA: 3:42 - loss: 0.5180 - mean_iou: 0.0028 - acc: 0.85 - ETA: 3:24 - loss: 0.5138 - mean_iou: 0.0028 - acc: 0.85 - ETA: 3:06 - loss: 0.5156 - mean_iou: 0.0027 - acc: 0.85 - ETA: 2:48 - loss: 0.5097 - mean_iou: 0.0026 - acc: 0.85 - ETA: 2:31 - loss: 0.5018 - mean_iou: 0.0026 - acc: 0.86 - ETA: 2:14 - loss: 0.4985 - mean_iou: 0.0026 - acc: 0.85 - ETA: 1:56 - loss: 0.4995 - mean_iou: 0.0025 - acc: 0.85 - ETA: 1:39 - loss: 0.4942 - mean_iou: 0.0025 - acc: 0.85 - ETA: 1:22 - loss: 0.4885 - mean_iou: 0.0024 - acc: 0.85 - ETA: 1:04 - loss: 0.4851 - mean_iou: 0.0024 - acc: 0.85 - ETA: 47s - loss: 0.4769 - mean_iou: 0.0023 - acc: 0.8593 - ETA: 30s - loss: 0.4723 - mean_iou: 0.0023 - acc: 0.859 - ETA: 12s - loss: 0.4661 - mean_iou: 0.0023 - acc: 0.860 - 318s 594ms/step - loss: 0.4658 - mean_iou: 0.0022 - acc: 0.8597 - val_loss: 0.3909 - val_mean_iou: 0.0016 - val_acc: 0.8655\n",
      "\n",
      "Epoch 00002: val_loss improved from 0.51839 to 0.39090, saving model to unet_grey.h5\n",
      "Epoch 3/30\n",
      "536/536 [==============================] - ETA: 4:27 - loss: 0.4060 - mean_iou: 0.0015 - acc: 0.85 - ETA: 4:09 - loss: 0.3816 - mean_iou: 0.0015 - acc: 0.87 - ETA: 3:52 - loss: 0.3835 - mean_iou: 0.0015 - acc: 0.87 - ETA: 3:37 - loss: 0.3989 - mean_iou: 0.0015 - acc: 0.86 - ETA: 3:20 - loss: 0.3963 - mean_iou: 0.0014 - acc: 0.86 - ETA: 3:03 - loss: 0.3987 - mean_iou: 0.0014 - acc: 0.85 - ETA: 2:46 - loss: 0.3948 - mean_iou: 0.0014 - acc: 0.86 - ETA: 2:30 - loss: 0.3910 - mean_iou: 0.0014 - acc: 0.86 - ETA: 2:12 - loss: 0.3928 - mean_iou: 0.0014 - acc: 0.85 - ETA: 1:55 - loss: 0.3908 - mean_iou: 0.0014 - acc: 0.85 - ETA: 1:38 - loss: 0.3884 - mean_iou: 0.0014 - acc: 0.86 - ETA: 1:21 - loss: 0.3898 - mean_iou: 0.0013 - acc: 0.86 - ETA: 1:04 - loss: 0.3852 - mean_iou: 0.0013 - acc: 0.86 - ETA: 47s - loss: 0.3820 - mean_iou: 0.0013 - acc: 0.8634 - ETA: 30s - loss: 0.3828 - mean_iou: 0.0013 - acc: 0.861 - ETA: 12s - loss: 0.3820 - mean_iou: 0.0013 - acc: 0.861 - 319s 594ms/step - loss: 0.3832 - mean_iou: 0.0013 - acc: 0.8597 - val_loss: 0.3241 - val_mean_iou: 0.0010 - val_acc: 0.8655\n",
      "\n",
      "Epoch 00003: val_loss improved from 0.39090 to 0.32412, saving model to unet_grey.h5\n",
      "Epoch 4/30\n",
      "536/536 [==============================] - ETA: 4:31 - loss: 0.3159 - mean_iou: 0.0010 - acc: 0.87 - ETA: 4:16 - loss: 0.3373 - mean_iou: 9.9866e-04 - acc: 0.86 - ETA: 4:05 - loss: 0.3232 - mean_iou: 9.9094e-04 - acc: 0.87 - ETA: 3:50 - loss: 0.3365 - mean_iou: 9.8399e-04 - acc: 0.86 - ETA: 3:32 - loss: 0.3220 - mean_iou: 9.7639e-04 - acc: 0.86 - ETA: 3:10 - loss: 0.3262 - mean_iou: 9.6935e-04 - acc: 0.86 - ETA: 2:51 - loss: 0.3353 - mean_iou: 9.6227e-04 - acc: 0.85 - ETA: 2:33 - loss: 0.3313 - mean_iou: 9.5479e-04 - acc: 0.85 - ETA: 2:16 - loss: 0.3251 - mean_iou: 9.4756e-04 - acc: 0.86 - ETA: 1:58 - loss: 0.3257 - mean_iou: 9.4073e-04 - acc: 0.85 - ETA: 1:40 - loss: 0.3207 - mean_iou: 9.3379e-04 - acc: 0.85 - ETA: 1:22 - loss: 0.3164 - mean_iou: 9.2708e-04 - acc: 0.85 - ETA: 1:05 - loss: 0.3126 - mean_iou: 9.2053e-04 - acc: 0.85 - ETA: 47s - loss: 0.3067 - mean_iou: 9.1415e-04 - acc: 0.8594 - ETA: 30s - loss: 0.3053 - mean_iou: 9.0807e-04 - acc: 0.859 - ETA: 13s - loss: 0.3015 - mean_iou: 9.0215e-04 - acc: 0.860 - 320s 598ms/step - loss: 0.3019 - mean_iou: 8.9782e-04 - acc: 0.8599 - val_loss: 0.2441 - val_mean_iou: 8.1203e-04 - val_acc: 0.8669\n",
      "\n",
      "Epoch 00004: val_loss improved from 0.32412 to 0.24410, saving model to unet_grey.h5\n",
      "Epoch 5/30\n",
      "536/536 [==============================] - ETA: 4:33 - loss: 0.2616 - mean_iou: 8.0569e-04 - acc: 0.85 - ETA: 4:12 - loss: 0.2437 - mean_iou: 8.0998e-04 - acc: 0.87 - ETA: 3:56 - loss: 0.2475 - mean_iou: 8.1123e-04 - acc: 0.86 - ETA: 3:39 - loss: 0.2533 - mean_iou: 8.1230e-04 - acc: 0.86 - ETA: 3:22 - loss: 0.2481 - mean_iou: 8.3114e-04 - acc: 0.87 - ETA: 3:04 - loss: 0.2320 - mean_iou: 8.7030e-04 - acc: 0.87 - ETA: 2:46 - loss: 0.2501 - mean_iou: 9.0224e-04 - acc: 0.87 - ETA: 2:30 - loss: 0.2605 - mean_iou: 9.2779e-04 - acc: 0.86 - ETA: 2:13 - loss: 0.2576 - mean_iou: 9.5164e-04 - acc: 0.86 - ETA: 1:56 - loss: 0.2582 - mean_iou: 9.7839e-04 - acc: 0.86 - ETA: 1:39 - loss: 0.2703 - mean_iou: 0.0010 - acc: 0.8574   - ETA: 1:22 - loss: 0.2745 - mean_iou: 0.0011 - acc: 0.84 - ETA: 1:05 - loss: 0.2754 - mean_iou: 0.0011 - acc: 0.84 - ETA: 47s - loss: 0.2787 - mean_iou: 0.0012 - acc: 0.8388 - ETA: 30s - loss: 0.2799 - mean_iou: 0.0013 - acc: 0.836 - ETA: 13s - loss: 0.2766 - mean_iou: 0.0013 - acc: 0.837 - 319s 596ms/step - loss: 0.2778 - mean_iou: 0.0014 - acc: 0.8396 - val_loss: 0.2218 - val_mean_iou: 0.0026 - val_acc: 0.8758\n",
      "\n",
      "Epoch 00005: val_loss improved from 0.24410 to 0.22180, saving model to unet_grey.h5\n",
      "Epoch 6/30\n",
      "536/536 [==============================] - ETA: 4:29 - loss: 0.2412 - mean_iou: 0.0027 - acc: 0.86 - ETA: 4:10 - loss: 0.2276 - mean_iou: 0.0027 - acc: 0.87 - ETA: 3:55 - loss: 0.2382 - mean_iou: 0.0027 - acc: 0.86 - ETA: 3:39 - loss: 0.2244 - mean_iou: 0.0027 - acc: 0.87 - ETA: 3:21 - loss: 0.2180 - mean_iou: 0.0027 - acc: 0.87 - ETA: 3:04 - loss: 0.2099 - mean_iou: 0.0027 - acc: 0.88 - ETA: 2:47 - loss: 0.2169 - mean_iou: 0.0027 - acc: 0.88 - ETA: 2:30 - loss: 0.2221 - mean_iou: 0.0027 - acc: 0.87 - ETA: 2:12 - loss: 0.2248 - mean_iou: 0.0027 - acc: 0.87 - ETA: 1:55 - loss: 0.2319 - mean_iou: 0.0027 - acc: 0.87 - ETA: 1:38 - loss: 0.2363 - mean_iou: 0.0028 - acc: 0.87 - ETA: 1:21 - loss: 0.2336 - mean_iou: 0.0028 - acc: 0.87 - ETA: 1:04 - loss: 0.2309 - mean_iou: 0.0028 - acc: 0.87 - ETA: 47s - loss: 0.2355 - mean_iou: 0.0028 - acc: 0.8753 - ETA: 30s - loss: 0.2323 - mean_iou: 0.0028 - acc: 0.875 - ETA: 13s - loss: 0.2340 - mean_iou: 0.0028 - acc: 0.876 - 322s 600ms/step - loss: 0.2351 - mean_iou: 0.0029 - acc: 0.8761 - val_loss: 0.1804 - val_mean_iou: 0.0036 - val_acc: 0.9021\n",
      "\n",
      "Epoch 00006: val_loss improved from 0.22180 to 0.18042, saving model to unet_grey.h5\n",
      "Epoch 7/30\n"
     ]
    },
    {
     "name": "stdout",
     "output_type": "stream",
     "text": [
      "536/536 [==============================] - ETA: 4:38 - loss: 0.2135 - mean_iou: 0.0039 - acc: 0.89 - ETA: 4:18 - loss: 0.2453 - mean_iou: 0.0040 - acc: 0.87 - ETA: 4:00 - loss: 0.2236 - mean_iou: 0.0040 - acc: 0.88 - ETA: 3:41 - loss: 0.2280 - mean_iou: 0.0041 - acc: 0.88 - ETA: 3:23 - loss: 0.2280 - mean_iou: 0.0042 - acc: 0.88 - ETA: 3:07 - loss: 0.2252 - mean_iou: 0.0043 - acc: 0.89 - ETA: 2:49 - loss: 0.2212 - mean_iou: 0.0043 - acc: 0.89 - ETA: 2:31 - loss: 0.2241 - mean_iou: 0.0044 - acc: 0.89 - ETA: 2:14 - loss: 0.2295 - mean_iou: 0.0045 - acc: 0.89 - ETA: 1:57 - loss: 0.2238 - mean_iou: 0.0047 - acc: 0.89 - ETA: 1:39 - loss: 0.2208 - mean_iou: 0.0048 - acc: 0.90 - ETA: 1:22 - loss: 0.2139 - mean_iou: 0.0050 - acc: 0.90 - ETA: 1:05 - loss: 0.2096 - mean_iou: 0.0051 - acc: 0.90 - ETA: 47s - loss: 0.2084 - mean_iou: 0.0053 - acc: 0.9099 - ETA: 30s - loss: 0.2065 - mean_iou: 0.0054 - acc: 0.911 - ETA: 12s - loss: 0.2024 - mean_iou: 0.0056 - acc: 0.913 - 319s 595ms/step - loss: 0.2004 - mean_iou: 0.0057 - acc: 0.9153 - val_loss: 0.1437 - val_mean_iou: 0.0105 - val_acc: 0.9437\n",
      "\n",
      "Epoch 00007: val_loss improved from 0.18042 to 0.14374, saving model to unet_grey.h5\n",
      "Epoch 8/30\n",
      "536/536 [==============================] - ETA: 4:36 - loss: 0.1734 - mean_iou: 0.0128 - acc: 0.92 - ETA: 4:19 - loss: 0.1616 - mean_iou: 0.0132 - acc: 0.93 - ETA: 3:56 - loss: 0.1705 - mean_iou: 0.0137 - acc: 0.93 - ETA: 3:40 - loss: 0.1691 - mean_iou: 0.0143 - acc: 0.93 - ETA: 3:24 - loss: 0.1760 - mean_iou: 0.0148 - acc: 0.93 - ETA: 3:06 - loss: 0.1704 - mean_iou: 0.0154 - acc: 0.93 - ETA: 2:48 - loss: 0.1640 - mean_iou: 0.0161 - acc: 0.93 - ETA: 2:31 - loss: 0.1693 - mean_iou: 0.0169 - acc: 0.93 - ETA: 2:14 - loss: 0.1641 - mean_iou: 0.0176 - acc: 0.93 - ETA: 1:57 - loss: 0.1690 - mean_iou: 0.0183 - acc: 0.93 - ETA: 1:39 - loss: 0.1765 - mean_iou: 0.0191 - acc: 0.92 - ETA: 1:22 - loss: 0.1743 - mean_iou: 0.0198 - acc: 0.93 - ETA: 1:05 - loss: 0.1797 - mean_iou: 0.0205 - acc: 0.92 - ETA: 47s - loss: 0.1763 - mean_iou: 0.0212 - acc: 0.9304 - ETA: 30s - loss: 0.1766 - mean_iou: 0.0218 - acc: 0.930 - ETA: 12s - loss: 0.1748 - mean_iou: 0.0224 - acc: 0.931 - 320s 597ms/step - loss: 0.1764 - mean_iou: 0.0229 - acc: 0.9314 - val_loss: 0.1262 - val_mean_iou: 0.0366 - val_acc: 0.9488\n",
      "\n",
      "Epoch 00008: val_loss improved from 0.14374 to 0.12621, saving model to unet_grey.h5\n",
      "Epoch 9/30\n",
      "536/536 [==============================] - ETA: 4:53 - loss: 0.1956 - mean_iou: 0.0396 - acc: 0.91 - ETA: 4:25 - loss: 0.1753 - mean_iou: 0.0401 - acc: 0.92 - ETA: 4:01 - loss: 0.1850 - mean_iou: 0.0405 - acc: 0.92 - ETA: 3:46 - loss: 0.1705 - mean_iou: 0.0409 - acc: 0.92 - ETA: 3:27 - loss: 0.1741 - mean_iou: 0.0412 - acc: 0.92 - ETA: 3:09 - loss: 0.1710 - mean_iou: 0.0415 - acc: 0.92 - ETA: 2:53 - loss: 0.1699 - mean_iou: 0.0419 - acc: 0.92 - ETA: 2:37 - loss: 0.1675 - mean_iou: 0.0424 - acc: 0.93 - ETA: 2:19 - loss: 0.1679 - mean_iou: 0.0429 - acc: 0.93 - ETA: 2:02 - loss: 0.1711 - mean_iou: 0.0435 - acc: 0.92 - ETA: 1:43 - loss: 0.1657 - mean_iou: 0.0441 - acc: 0.93 - ETA: 1:25 - loss: 0.1656 - mean_iou: 0.0446 - acc: 0.93 - ETA: 1:07 - loss: 0.1667 - mean_iou: 0.0452 - acc: 0.93 - ETA: 49s - loss: 0.1663 - mean_iou: 0.0457 - acc: 0.9312 - ETA: 31s - loss: 0.1637 - mean_iou: 0.0463 - acc: 0.932 - ETA: 13s - loss: 0.1627 - mean_iou: 0.0468 - acc: 0.932 - 326s 609ms/step - loss: 0.1643 - mean_iou: 0.0472 - acc: 0.9315 - val_loss: 0.1158 - val_mean_iou: 0.0583 - val_acc: 0.9537\n",
      "\n",
      "Epoch 00009: val_loss improved from 0.12621 to 0.11581, saving model to unet_grey.h5\n",
      "Epoch 10/30\n",
      "536/536 [==============================] - ETA: 4:30 - loss: 0.1259 - mean_iou: 0.0615 - acc: 0.95 - ETA: 4:12 - loss: 0.1412 - mean_iou: 0.0622 - acc: 0.94 - ETA: 3:53 - loss: 0.1576 - mean_iou: 0.0629 - acc: 0.93 - ETA: 3:39 - loss: 0.1430 - mean_iou: 0.0635 - acc: 0.94 - ETA: 3:23 - loss: 0.1453 - mean_iou: 0.0642 - acc: 0.94 - ETA: 3:04 - loss: 0.1415 - mean_iou: 0.0647 - acc: 0.94 - ETA: 2:48 - loss: 0.1386 - mean_iou: 0.0652 - acc: 0.94 - ETA: 2:31 - loss: 0.1364 - mean_iou: 0.0656 - acc: 0.94 - ETA: 2:14 - loss: 0.1317 - mean_iou: 0.0661 - acc: 0.94 - ETA: 1:56 - loss: 0.1353 - mean_iou: 0.0665 - acc: 0.94 - ETA: 1:39 - loss: 0.1353 - mean_iou: 0.0670 - acc: 0.94 - ETA: 1:22 - loss: 0.1327 - mean_iou: 0.0675 - acc: 0.94 - ETA: 1:04 - loss: 0.1375 - mean_iou: 0.0680 - acc: 0.94 - ETA: 47s - loss: 0.1397 - mean_iou: 0.0684 - acc: 0.9448 - ETA: 30s - loss: 0.1413 - mean_iou: 0.0689 - acc: 0.943 - ETA: 12s - loss: 0.1405 - mean_iou: 0.0694 - acc: 0.944 - 319s 595ms/step - loss: 0.1456 - mean_iou: 0.0698 - acc: 0.9413 - val_loss: 0.1032 - val_mean_iou: 0.0811 - val_acc: 0.9579\n",
      "\n",
      "Epoch 00010: val_loss improved from 0.11581 to 0.10318, saving model to unet_grey.h5\n",
      "Epoch 11/30\n",
      "536/536 [==============================] - ETA: 4:27 - loss: 0.1808 - mean_iou: 0.0841 - acc: 0.92 - ETA: 4:12 - loss: 0.1659 - mean_iou: 0.0845 - acc: 0.93 - ETA: 3:58 - loss: 0.1449 - mean_iou: 0.0849 - acc: 0.94 - ETA: 3:43 - loss: 0.1402 - mean_iou: 0.0854 - acc: 0.94 - ETA: 3:26 - loss: 0.1538 - mean_iou: 0.0859 - acc: 0.93 - ETA: 3:07 - loss: 0.1475 - mean_iou: 0.0863 - acc: 0.93 - ETA: 2:51 - loss: 0.1430 - mean_iou: 0.0868 - acc: 0.94 - ETA: 2:33 - loss: 0.1389 - mean_iou: 0.0873 - acc: 0.94 - ETA: 2:15 - loss: 0.1373 - mean_iou: 0.0878 - acc: 0.94 - ETA: 1:57 - loss: 0.1390 - mean_iou: 0.0882 - acc: 0.94 - ETA: 1:40 - loss: 0.1364 - mean_iou: 0.0887 - acc: 0.94 - ETA: 1:22 - loss: 0.1373 - mean_iou: 0.0891 - acc: 0.94 - ETA: 1:05 - loss: 0.1375 - mean_iou: 0.0895 - acc: 0.94 - ETA: 47s - loss: 0.1399 - mean_iou: 0.0900 - acc: 0.9438 - ETA: 30s - loss: 0.1367 - mean_iou: 0.0904 - acc: 0.945 - ETA: 13s - loss: 0.1340 - mean_iou: 0.0908 - acc: 0.946 - 321s 600ms/step - loss: 0.1316 - mean_iou: 0.0912 - acc: 0.9476 - val_loss: 0.0966 - val_mean_iou: 0.1005 - val_acc: 0.9608\n",
      "\n",
      "Epoch 00011: val_loss improved from 0.10318 to 0.09661, saving model to unet_grey.h5\n",
      "Epoch 12/30\n",
      "536/536 [==============================] - ETA: 4:56 - loss: 0.0933 - mean_iou: 0.1027 - acc: 0.96 - ETA: 4:39 - loss: 0.1013 - mean_iou: 0.1032 - acc: 0.95 - ETA: 4:13 - loss: 0.1016 - mean_iou: 0.1036 - acc: 0.95 - ETA: 3:51 - loss: 0.1237 - mean_iou: 0.1039 - acc: 0.95 - ETA: 3:30 - loss: 0.1259 - mean_iou: 0.1042 - acc: 0.94 - ETA: 3:10 - loss: 0.1270 - mean_iou: 0.1046 - acc: 0.94 - ETA: 2:53 - loss: 0.1351 - mean_iou: 0.1051 - acc: 0.94 - ETA: 2:34 - loss: 0.1346 - mean_iou: 0.1055 - acc: 0.94 - ETA: 2:16 - loss: 0.1312 - mean_iou: 0.1060 - acc: 0.94 - ETA: 1:58 - loss: 0.1305 - mean_iou: 0.1064 - acc: 0.94 - ETA: 1:40 - loss: 0.1272 - mean_iou: 0.1068 - acc: 0.94 - ETA: 1:22 - loss: 0.1292 - mean_iou: 0.1073 - acc: 0.94 - ETA: 1:05 - loss: 0.1282 - mean_iou: 0.1077 - acc: 0.94 - ETA: 47s - loss: 0.1269 - mean_iou: 0.1081 - acc: 0.9481 - ETA: 30s - loss: 0.1253 - mean_iou: 0.1085 - acc: 0.948 - ETA: 13s - loss: 0.1273 - mean_iou: 0.1089 - acc: 0.948 - 321s 598ms/step - loss: 0.1266 - mean_iou: 0.1092 - acc: 0.9483 - val_loss: 0.0918 - val_mean_iou: 0.1182 - val_acc: 0.9627\n",
      "\n",
      "Epoch 00012: val_loss improved from 0.09661 to 0.09179, saving model to unet_grey.h5\n",
      "Epoch 13/30\n",
      "536/536 [==============================] - ETA: 4:30 - loss: 0.1044 - mean_iou: 0.1203 - acc: 0.95 - ETA: 4:17 - loss: 0.0951 - mean_iou: 0.1205 - acc: 0.96 - ETA: 3:58 - loss: 0.0994 - mean_iou: 0.1210 - acc: 0.95 - ETA: 3:39 - loss: 0.1019 - mean_iou: 0.1213 - acc: 0.95 - ETA: 3:22 - loss: 0.1208 - mean_iou: 0.1217 - acc: 0.94 - ETA: 3:06 - loss: 0.1210 - mean_iou: 0.1221 - acc: 0.94 - ETA: 2:48 - loss: 0.1227 - mean_iou: 0.1225 - acc: 0.94 - ETA: 2:31 - loss: 0.1210 - mean_iou: 0.1228 - acc: 0.94 - ETA: 2:13 - loss: 0.1198 - mean_iou: 0.1232 - acc: 0.94 - ETA: 1:56 - loss: 0.1221 - mean_iou: 0.1236 - acc: 0.94 - ETA: 1:39 - loss: 0.1186 - mean_iou: 0.1240 - acc: 0.95 - ETA: 1:21 - loss: 0.1221 - mean_iou: 0.1243 - acc: 0.94 - ETA: 1:04 - loss: 0.1270 - mean_iou: 0.1247 - acc: 0.94 - ETA: 47s - loss: 0.1254 - mean_iou: 0.1250 - acc: 0.9478 - ETA: 30s - loss: 0.1229 - mean_iou: 0.1254 - acc: 0.949 - ETA: 12s - loss: 0.1224 - mean_iou: 0.1257 - acc: 0.949 - 317s 592ms/step - loss: 0.1218 - mean_iou: 0.1260 - acc: 0.9498 - val_loss: 0.0885 - val_mean_iou: 0.1338 - val_acc: 0.9649\n"
     ]
    },
    {
     "name": "stdout",
     "output_type": "stream",
     "text": [
      "\n",
      "Epoch 00013: val_loss improved from 0.09179 to 0.08852, saving model to unet_grey.h5\n",
      "Epoch 14/30\n",
      "536/536 [==============================] - ETA: 4:35 - loss: 0.1220 - mean_iou: 0.1355 - acc: 0.95 - ETA: 4:13 - loss: 0.1321 - mean_iou: 0.1358 - acc: 0.94 - ETA: 3:56 - loss: 0.1349 - mean_iou: 0.1361 - acc: 0.94 - ETA: 3:39 - loss: 0.1193 - mean_iou: 0.1363 - acc: 0.95 - ETA: 3:22 - loss: 0.1204 - mean_iou: 0.1366 - acc: 0.95 - ETA: 3:05 - loss: 0.1219 - mean_iou: 0.1370 - acc: 0.95 - ETA: 2:46 - loss: 0.1141 - mean_iou: 0.1373 - acc: 0.95 - ETA: 2:30 - loss: 0.1117 - mean_iou: 0.1376 - acc: 0.95 - ETA: 2:13 - loss: 0.1180 - mean_iou: 0.1379 - acc: 0.95 - ETA: 1:56 - loss: 0.1158 - mean_iou: 0.1382 - acc: 0.95 - ETA: 1:39 - loss: 0.1195 - mean_iou: 0.1385 - acc: 0.95 - ETA: 1:22 - loss: 0.1164 - mean_iou: 0.1388 - acc: 0.95 - ETA: 1:05 - loss: 0.1207 - mean_iou: 0.1391 - acc: 0.95 - ETA: 48s - loss: 0.1210 - mean_iou: 0.1394 - acc: 0.9512 - ETA: 30s - loss: 0.1184 - mean_iou: 0.1397 - acc: 0.952 - ETA: 13s - loss: 0.1195 - mean_iou: 0.1401 - acc: 0.952 - 323s 602ms/step - loss: 0.1178 - mean_iou: 0.1403 - acc: 0.9535 - val_loss: 0.0887 - val_mean_iou: 0.1474 - val_acc: 0.9645\n",
      "\n",
      "Epoch 00014: val_loss did not improve\n",
      "Epoch 15/30\n",
      "536/536 [==============================] - ETA: 4:30 - loss: 0.0748 - mean_iou: 0.1488 - acc: 0.97 - ETA: 4:10 - loss: 0.0665 - mean_iou: 0.1491 - acc: 0.97 - ETA: 3:58 - loss: 0.0831 - mean_iou: 0.1494 - acc: 0.96 - ETA: 3:41 - loss: 0.0934 - mean_iou: 0.1497 - acc: 0.96 - ETA: 3:22 - loss: 0.1040 - mean_iou: 0.1500 - acc: 0.95 - ETA: 3:05 - loss: 0.1052 - mean_iou: 0.1503 - acc: 0.95 - ETA: 2:48 - loss: 0.1065 - mean_iou: 0.1506 - acc: 0.95 - ETA: 2:31 - loss: 0.1034 - mean_iou: 0.1509 - acc: 0.95 - ETA: 2:13 - loss: 0.1021 - mean_iou: 0.1512 - acc: 0.96 - ETA: 1:56 - loss: 0.1009 - mean_iou: 0.1516 - acc: 0.96 - ETA: 1:39 - loss: 0.1035 - mean_iou: 0.1519 - acc: 0.95 - ETA: 1:22 - loss: 0.1083 - mean_iou: 0.1522 - acc: 0.95 - ETA: 1:04 - loss: 0.1146 - mean_iou: 0.1525 - acc: 0.95 - ETA: 47s - loss: 0.1109 - mean_iou: 0.1528 - acc: 0.9558 - ETA: 30s - loss: 0.1142 - mean_iou: 0.1530 - acc: 0.954 - ETA: 12s - loss: 0.1159 - mean_iou: 0.1533 - acc: 0.953 - 318s 594ms/step - loss: 0.1142 - mean_iou: 0.1535 - acc: 0.9544 - val_loss: 0.0824 - val_mean_iou: 0.1595 - val_acc: 0.9680\n",
      "\n",
      "Epoch 00015: val_loss improved from 0.08852 to 0.08239, saving model to unet_grey.h5\n",
      "Epoch 16/30\n",
      "536/536 [==============================] - ETA: 4:30 - loss: 0.1112 - mean_iou: 0.1610 - acc: 0.95 - ETA: 4:13 - loss: 0.1012 - mean_iou: 0.1614 - acc: 0.96 - ETA: 3:57 - loss: 0.1103 - mean_iou: 0.1617 - acc: 0.95 - ETA: 3:39 - loss: 0.1053 - mean_iou: 0.1621 - acc: 0.95 - ETA: 3:20 - loss: 0.1162 - mean_iou: 0.1624 - acc: 0.95 - ETA: 3:05 - loss: 0.1081 - mean_iou: 0.1628 - acc: 0.95 - ETA: 2:48 - loss: 0.1035 - mean_iou: 0.1630 - acc: 0.95 - ETA: 2:30 - loss: 0.1009 - mean_iou: 0.1633 - acc: 0.95 - ETA: 2:13 - loss: 0.1043 - mean_iou: 0.1636 - acc: 0.95 - ETA: 1:56 - loss: 0.1008 - mean_iou: 0.1638 - acc: 0.95 - ETA: 1:39 - loss: 0.1013 - mean_iou: 0.1641 - acc: 0.95 - ETA: 1:21 - loss: 0.1071 - mean_iou: 0.1643 - acc: 0.95 - ETA: 1:04 - loss: 0.1036 - mean_iou: 0.1646 - acc: 0.95 - ETA: 47s - loss: 0.1039 - mean_iou: 0.1649 - acc: 0.9581 - ETA: 30s - loss: 0.1069 - mean_iou: 0.1651 - acc: 0.956 - ETA: 13s - loss: 0.1060 - mean_iou: 0.1654 - acc: 0.957 - 320s 597ms/step - loss: 0.1071 - mean_iou: 0.1656 - acc: 0.9567 - val_loss: 0.0797 - val_mean_iou: 0.1711 - val_acc: 0.9679\n",
      "\n",
      "Epoch 00016: val_loss improved from 0.08239 to 0.07974, saving model to unet_grey.h5\n",
      "Epoch 17/30\n",
      "536/536 [==============================] - ETA: 4:40 - loss: 0.1134 - mean_iou: 0.1723 - acc: 0.95 - ETA: 4:18 - loss: 0.1134 - mean_iou: 0.1726 - acc: 0.95 - ETA: 3:59 - loss: 0.1013 - mean_iou: 0.1728 - acc: 0.95 - ETA: 3:44 - loss: 0.1100 - mean_iou: 0.1730 - acc: 0.95 - ETA: 3:30 - loss: 0.1033 - mean_iou: 0.1732 - acc: 0.95 - ETA: 3:14 - loss: 0.0952 - mean_iou: 0.1734 - acc: 0.96 - ETA: 2:57 - loss: 0.1003 - mean_iou: 0.1736 - acc: 0.95 - ETA: 2:37 - loss: 0.0987 - mean_iou: 0.1738 - acc: 0.95 - ETA: 2:19 - loss: 0.0973 - mean_iou: 0.1741 - acc: 0.96 - ETA: 2:00 - loss: 0.1010 - mean_iou: 0.1743 - acc: 0.95 - ETA: 1:42 - loss: 0.0985 - mean_iou: 0.1746 - acc: 0.95 - ETA: 1:24 - loss: 0.1004 - mean_iou: 0.1749 - acc: 0.95 - ETA: 1:06 - loss: 0.0989 - mean_iou: 0.1751 - acc: 0.95 - ETA: 48s - loss: 0.0995 - mean_iou: 0.1754 - acc: 0.9590 - ETA: 30s - loss: 0.1022 - mean_iou: 0.1757 - acc: 0.957 - ETA: 13s - loss: 0.1040 - mean_iou: 0.1759 - acc: 0.957 - 324s 605ms/step - loss: 0.1024 - mean_iou: 0.1761 - acc: 0.9582 - val_loss: 0.0792 - val_mean_iou: 0.1813 - val_acc: 0.9681\n",
      "\n",
      "Epoch 00017: val_loss improved from 0.07974 to 0.07922, saving model to unet_grey.h5\n",
      "Epoch 18/30\n",
      "536/536 [==============================] - ETA: 4:44 - loss: 0.0710 - mean_iou: 0.1825 - acc: 0.97 - ETA: 4:21 - loss: 0.0822 - mean_iou: 0.1827 - acc: 0.96 - ETA: 3:59 - loss: 0.1017 - mean_iou: 0.1829 - acc: 0.95 - ETA: 3:42 - loss: 0.0992 - mean_iou: 0.1831 - acc: 0.95 - ETA: 3:24 - loss: 0.0920 - mean_iou: 0.1834 - acc: 0.96 - ETA: 3:07 - loss: 0.0941 - mean_iou: 0.1836 - acc: 0.96 - ETA: 2:48 - loss: 0.1051 - mean_iou: 0.1839 - acc: 0.95 - ETA: 2:31 - loss: 0.1085 - mean_iou: 0.1841 - acc: 0.95 - ETA: 2:14 - loss: 0.1041 - mean_iou: 0.1843 - acc: 0.95 - ETA: 1:57 - loss: 0.1053 - mean_iou: 0.1845 - acc: 0.95 - ETA: 1:39 - loss: 0.1108 - mean_iou: 0.1847 - acc: 0.95 - ETA: 1:22 - loss: 0.1077 - mean_iou: 0.1849 - acc: 0.95 - ETA: 1:05 - loss: 0.1060 - mean_iou: 0.1852 - acc: 0.95 - ETA: 47s - loss: 0.1063 - mean_iou: 0.1854 - acc: 0.9576 - ETA: 30s - loss: 0.1098 - mean_iou: 0.1856 - acc: 0.956 - ETA: 13s - loss: 0.1084 - mean_iou: 0.1858 - acc: 0.956 - 320s 597ms/step - loss: 0.1070 - mean_iou: 0.1859 - acc: 0.9571 - val_loss: 0.0846 - val_mean_iou: 0.1904 - val_acc: 0.9649\n",
      "\n",
      "Epoch 00018: val_loss did not improve\n",
      "Epoch 19/30\n",
      "536/536 [==============================] - ETA: 4:33 - loss: 0.0856 - mean_iou: 0.1916 - acc: 0.96 - ETA: 4:12 - loss: 0.1140 - mean_iou: 0.1918 - acc: 0.95 - ETA: 3:54 - loss: 0.1148 - mean_iou: 0.1920 - acc: 0.95 - ETA: 3:39 - loss: 0.1057 - mean_iou: 0.1923 - acc: 0.95 - ETA: 3:23 - loss: 0.1054 - mean_iou: 0.1925 - acc: 0.95 - ETA: 3:04 - loss: 0.1001 - mean_iou: 0.1927 - acc: 0.95 - ETA: 2:47 - loss: 0.1015 - mean_iou: 0.1928 - acc: 0.95 - ETA: 2:30 - loss: 0.1012 - mean_iou: 0.1930 - acc: 0.95 - ETA: 2:13 - loss: 0.0974 - mean_iou: 0.1932 - acc: 0.95 - ETA: 1:56 - loss: 0.0951 - mean_iou: 0.1934 - acc: 0.96 - ETA: 1:38 - loss: 0.1004 - mean_iou: 0.1936 - acc: 0.95 - ETA: 1:21 - loss: 0.0982 - mean_iou: 0.1938 - acc: 0.95 - ETA: 1:04 - loss: 0.0990 - mean_iou: 0.1940 - acc: 0.95 - ETA: 47s - loss: 0.0977 - mean_iou: 0.1942 - acc: 0.9599 - ETA: 30s - loss: 0.0962 - mean_iou: 0.1944 - acc: 0.960 - ETA: 13s - loss: 0.1018 - mean_iou: 0.1946 - acc: 0.958 - 323s 603ms/step - loss: 0.1034 - mean_iou: 0.1948 - acc: 0.9578 - val_loss: 0.0762 - val_mean_iou: 0.1989 - val_acc: 0.9692\n",
      "\n",
      "Epoch 00019: val_loss improved from 0.07922 to 0.07619, saving model to unet_grey.h5\n",
      "Epoch 20/30\n",
      "536/536 [==============================] - ETA: 4:23 - loss: 0.1027 - mean_iou: 0.1999 - acc: 0.95 - ETA: 4:16 - loss: 0.0872 - mean_iou: 0.2000 - acc: 0.96 - ETA: 4:00 - loss: 0.1059 - mean_iou: 0.2002 - acc: 0.95 - ETA: 3:42 - loss: 0.0979 - mean_iou: 0.2004 - acc: 0.95 - ETA: 3:23 - loss: 0.0944 - mean_iou: 0.2006 - acc: 0.95 - ETA: 3:06 - loss: 0.0984 - mean_iou: 0.2008 - acc: 0.95 - ETA: 2:50 - loss: 0.1004 - mean_iou: 0.2010 - acc: 0.95 - ETA: 2:34 - loss: 0.0995 - mean_iou: 0.2012 - acc: 0.95 - ETA: 2:16 - loss: 0.0961 - mean_iou: 0.2014 - acc: 0.95 - ETA: 1:58 - loss: 0.0974 - mean_iou: 0.2016 - acc: 0.95 - ETA: 1:40 - loss: 0.1010 - mean_iou: 0.2018 - acc: 0.95 - ETA: 1:23 - loss: 0.1015 - mean_iou: 0.2019 - acc: 0.95 - ETA: 1:05 - loss: 0.0994 - mean_iou: 0.2021 - acc: 0.95 - ETA: 48s - loss: 0.0995 - mean_iou: 0.2023 - acc: 0.9585 - ETA: 30s - loss: 0.1002 - mean_iou: 0.2024 - acc: 0.958 - ETA: 13s - loss: 0.1003 - mean_iou: 0.2026 - acc: 0.958 - 323s 602ms/step - loss: 0.0986 - mean_iou: 0.2027 - acc: 0.9594 - val_loss: 0.0759 - val_mean_iou: 0.2064 - val_acc: 0.9694\n"
     ]
    },
    {
     "name": "stdout",
     "output_type": "stream",
     "text": [
      "\n",
      "Epoch 00020: val_loss improved from 0.07619 to 0.07594, saving model to unet_grey.h5\n",
      "Epoch 21/30\n",
      "536/536 [==============================] - ETA: 4:27 - loss: 0.0732 - mean_iou: 0.2073 - acc: 0.97 - ETA: 4:15 - loss: 0.0643 - mean_iou: 0.2075 - acc: 0.97 - ETA: 3:59 - loss: 0.0799 - mean_iou: 0.2076 - acc: 0.96 - ETA: 3:39 - loss: 0.0824 - mean_iou: 0.2078 - acc: 0.96 - ETA: 3:22 - loss: 0.0836 - mean_iou: 0.2079 - acc: 0.96 - ETA: 3:05 - loss: 0.0832 - mean_iou: 0.2081 - acc: 0.96 - ETA: 2:48 - loss: 0.0806 - mean_iou: 0.2083 - acc: 0.96 - ETA: 2:30 - loss: 0.0868 - mean_iou: 0.2084 - acc: 0.96 - ETA: 2:12 - loss: 0.0891 - mean_iou: 0.2086 - acc: 0.96 - ETA: 1:56 - loss: 0.0871 - mean_iou: 0.2088 - acc: 0.96 - ETA: 1:39 - loss: 0.0983 - mean_iou: 0.2090 - acc: 0.96 - ETA: 1:21 - loss: 0.0962 - mean_iou: 0.2092 - acc: 0.96 - ETA: 1:04 - loss: 0.0954 - mean_iou: 0.2094 - acc: 0.96 - ETA: 47s - loss: 0.0981 - mean_iou: 0.2096 - acc: 0.9595 - ETA: 30s - loss: 0.0988 - mean_iou: 0.2098 - acc: 0.959 - ETA: 12s - loss: 0.1000 - mean_iou: 0.2099 - acc: 0.958 - 319s 595ms/step - loss: 0.0989 - mean_iou: 0.2101 - acc: 0.9590 - val_loss: 0.0796 - val_mean_iou: 0.2133 - val_acc: 0.9677\n",
      "\n",
      "Epoch 00021: val_loss did not improve\n",
      "Epoch 22/30\n",
      "536/536 [==============================] - ETA: 4:32 - loss: 0.1047 - mean_iou: 0.2139 - acc: 0.95 - ETA: 4:21 - loss: 0.0974 - mean_iou: 0.2140 - acc: 0.96 - ETA: 4:05 - loss: 0.0907 - mean_iou: 0.2142 - acc: 0.96 - ETA: 3:45 - loss: 0.0803 - mean_iou: 0.2144 - acc: 0.96 - ETA: 3:32 - loss: 0.0859 - mean_iou: 0.2146 - acc: 0.96 - ETA: 3:14 - loss: 0.0853 - mean_iou: 0.2147 - acc: 0.96 - ETA: 2:57 - loss: 0.0807 - mean_iou: 0.2149 - acc: 0.96 - ETA: 2:39 - loss: 0.0867 - mean_iou: 0.2151 - acc: 0.96 - ETA: 2:22 - loss: 0.0837 - mean_iou: 0.2153 - acc: 0.96 - ETA: 2:04 - loss: 0.0812 - mean_iou: 0.2154 - acc: 0.96 - ETA: 1:45 - loss: 0.0929 - mean_iou: 0.2156 - acc: 0.96 - ETA: 1:26 - loss: 0.0966 - mean_iou: 0.2157 - acc: 0.96 - ETA: 1:08 - loss: 0.0956 - mean_iou: 0.2159 - acc: 0.96 - ETA: 49s - loss: 0.1003 - mean_iou: 0.2160 - acc: 0.9587 - ETA: 31s - loss: 0.1042 - mean_iou: 0.2162 - acc: 0.956 - ETA: 13s - loss: 0.1043 - mean_iou: 0.2163 - acc: 0.956 - 333s 621ms/step - loss: 0.1043 - mean_iou: 0.2164 - acc: 0.9562 - val_loss: 0.0790 - val_mean_iou: 0.2193 - val_acc: 0.9675\n",
      "\n",
      "Epoch 00022: val_loss did not improve\n",
      "Epoch 23/30\n",
      "536/536 [==============================] - ETA: 4:35 - loss: 0.1078 - mean_iou: 0.2199 - acc: 0.95 - ETA: 4:13 - loss: 0.1151 - mean_iou: 0.2200 - acc: 0.95 - ETA: 3:56 - loss: 0.1023 - mean_iou: 0.2201 - acc: 0.95 - ETA: 3:42 - loss: 0.0936 - mean_iou: 0.2202 - acc: 0.96 - ETA: 3:25 - loss: 0.0974 - mean_iou: 0.2203 - acc: 0.95 - ETA: 3:07 - loss: 0.0947 - mean_iou: 0.2205 - acc: 0.96 - ETA: 2:49 - loss: 0.0931 - mean_iou: 0.2206 - acc: 0.96 - ETA: 2:32 - loss: 0.0910 - mean_iou: 0.2207 - acc: 0.96 - ETA: 2:15 - loss: 0.0968 - mean_iou: 0.2209 - acc: 0.95 - ETA: 1:57 - loss: 0.0971 - mean_iou: 0.2210 - acc: 0.95 - ETA: 1:39 - loss: 0.0955 - mean_iou: 0.2211 - acc: 0.96 - ETA: 1:22 - loss: 0.0969 - mean_iou: 0.2213 - acc: 0.95 - ETA: 1:05 - loss: 0.0963 - mean_iou: 0.2214 - acc: 0.96 - ETA: 47s - loss: 0.0963 - mean_iou: 0.2215 - acc: 0.9600 - ETA: 30s - loss: 0.0957 - mean_iou: 0.2216 - acc: 0.960 - ETA: 13s - loss: 0.0953 - mean_iou: 0.2217 - acc: 0.960 - 320s 596ms/step - loss: 0.0979 - mean_iou: 0.2218 - acc: 0.9596 - val_loss: 0.0755 - val_mean_iou: 0.2246 - val_acc: 0.9700\n",
      "\n",
      "Epoch 00023: val_loss improved from 0.07594 to 0.07547, saving model to unet_grey.h5\n",
      "Epoch 24/30\n",
      "536/536 [==============================] - ETA: 4:33 - loss: 0.1292 - mean_iou: 0.2253 - acc: 0.93 - ETA: 4:10 - loss: 0.1253 - mean_iou: 0.2254 - acc: 0.94 - ETA: 3:58 - loss: 0.1117 - mean_iou: 0.2255 - acc: 0.95 - ETA: 3:42 - loss: 0.1001 - mean_iou: 0.2256 - acc: 0.95 - ETA: 3:25 - loss: 0.1049 - mean_iou: 0.2257 - acc: 0.95 - ETA: 3:06 - loss: 0.0998 - mean_iou: 0.2259 - acc: 0.95 - ETA: 2:49 - loss: 0.0954 - mean_iou: 0.2260 - acc: 0.96 - ETA: 2:32 - loss: 0.0970 - mean_iou: 0.2261 - acc: 0.95 - ETA: 2:14 - loss: 0.1012 - mean_iou: 0.2263 - acc: 0.95 - ETA: 1:57 - loss: 0.1044 - mean_iou: 0.2264 - acc: 0.95 - ETA: 1:39 - loss: 0.1012 - mean_iou: 0.2265 - acc: 0.95 - ETA: 1:22 - loss: 0.0985 - mean_iou: 0.2266 - acc: 0.95 - ETA: 1:04 - loss: 0.0956 - mean_iou: 0.2267 - acc: 0.96 - ETA: 47s - loss: 0.0942 - mean_iou: 0.2269 - acc: 0.9609 - ETA: 30s - loss: 0.0933 - mean_iou: 0.2270 - acc: 0.961 - ETA: 13s - loss: 0.0920 - mean_iou: 0.2271 - acc: 0.961 - 321s 599ms/step - loss: 0.0929 - mean_iou: 0.2272 - acc: 0.9612 - val_loss: 0.0714 - val_mean_iou: 0.2301 - val_acc: 0.9710\n",
      "\n",
      "Epoch 00024: val_loss improved from 0.07547 to 0.07138, saving model to unet_grey.h5\n",
      "Epoch 25/30\n",
      "536/536 [==============================] - ETA: 4:59 - loss: 0.1100 - mean_iou: 0.2308 - acc: 0.94 - ETA: 4:45 - loss: 0.0851 - mean_iou: 0.2309 - acc: 0.96 - ETA: 4:29 - loss: 0.0938 - mean_iou: 0.2310 - acc: 0.95 - ETA: 4:07 - loss: 0.0908 - mean_iou: 0.2311 - acc: 0.96 - ETA: 3:40 - loss: 0.0981 - mean_iou: 0.2312 - acc: 0.95 - ETA: 3:19 - loss: 0.1006 - mean_iou: 0.2313 - acc: 0.95 - ETA: 3:00 - loss: 0.0998 - mean_iou: 0.2315 - acc: 0.95 - ETA: 2:39 - loss: 0.0993 - mean_iou: 0.2316 - acc: 0.95 - ETA: 2:20 - loss: 0.0989 - mean_iou: 0.2317 - acc: 0.95 - ETA: 2:01 - loss: 0.0957 - mean_iou: 0.2319 - acc: 0.96 - ETA: 1:43 - loss: 0.0935 - mean_iou: 0.2320 - acc: 0.96 - ETA: 1:25 - loss: 0.0965 - mean_iou: 0.2321 - acc: 0.96 - ETA: 1:07 - loss: 0.0960 - mean_iou: 0.2322 - acc: 0.96 - ETA: 49s - loss: 0.0943 - mean_iou: 0.2324 - acc: 0.9610 - ETA: 31s - loss: 0.0929 - mean_iou: 0.2325 - acc: 0.961 - ETA: 13s - loss: 0.0937 - mean_iou: 0.2326 - acc: 0.961 - 327s 611ms/step - loss: 0.0929 - mean_iou: 0.2327 - acc: 0.9613 - val_loss: 0.0727 - val_mean_iou: 0.2354 - val_acc: 0.9711\n",
      "\n",
      "Epoch 00025: val_loss did not improve\n",
      "Epoch 26/30\n",
      "536/536 [==============================] - ETA: 4:42 - loss: 0.1048 - mean_iou: 0.2360 - acc: 0.95 - ETA: 4:22 - loss: 0.0918 - mean_iou: 0.2362 - acc: 0.96 - ETA: 4:03 - loss: 0.0811 - mean_iou: 0.2363 - acc: 0.96 - ETA: 3:43 - loss: 0.0833 - mean_iou: 0.2364 - acc: 0.96 - ETA: 3:25 - loss: 0.0850 - mean_iou: 0.2365 - acc: 0.96 - ETA: 3:09 - loss: 0.0894 - mean_iou: 0.2366 - acc: 0.96 - ETA: 2:52 - loss: 0.0879 - mean_iou: 0.2367 - acc: 0.96 - ETA: 2:34 - loss: 0.0880 - mean_iou: 0.2368 - acc: 0.96 - ETA: 2:16 - loss: 0.0902 - mean_iou: 0.2369 - acc: 0.96 - ETA: 1:58 - loss: 0.0916 - mean_iou: 0.2370 - acc: 0.96 - ETA: 1:40 - loss: 0.1004 - mean_iou: 0.2371 - acc: 0.95 - ETA: 1:23 - loss: 0.0978 - mean_iou: 0.2372 - acc: 0.95 - ETA: 1:05 - loss: 0.0979 - mean_iou: 0.2373 - acc: 0.95 - ETA: 48s - loss: 0.0962 - mean_iou: 0.2374 - acc: 0.9595 - ETA: 30s - loss: 0.0954 - mean_iou: 0.2375 - acc: 0.959 - ETA: 13s - loss: 0.0946 - mean_iou: 0.2376 - acc: 0.960 - 325s 607ms/step - loss: 0.0948 - mean_iou: 0.2377 - acc: 0.9606 - val_loss: 0.0757 - val_mean_iou: 0.2400 - val_acc: 0.9691\n",
      "\n",
      "Epoch 00026: val_loss did not improve\n",
      "Epoch 27/30\n",
      "536/536 [==============================] - ETA: 4:32 - loss: 0.0673 - mean_iou: 0.2404 - acc: 0.97 - ETA: 4:14 - loss: 0.0792 - mean_iou: 0.2405 - acc: 0.96 - ETA: 3:54 - loss: 0.0829 - mean_iou: 0.2405 - acc: 0.96 - ETA: 3:39 - loss: 0.0794 - mean_iou: 0.2406 - acc: 0.96 - ETA: 3:23 - loss: 0.0776 - mean_iou: 0.2407 - acc: 0.96 - ETA: 3:04 - loss: 0.0793 - mean_iou: 0.2408 - acc: 0.96 - ETA: 2:47 - loss: 0.0784 - mean_iou: 0.2410 - acc: 0.96 - ETA: 2:30 - loss: 0.0927 - mean_iou: 0.2411 - acc: 0.96 - ETA: 2:13 - loss: 0.0926 - mean_iou: 0.2412 - acc: 0.96 - ETA: 1:56 - loss: 0.0906 - mean_iou: 0.2413 - acc: 0.96 - ETA: 1:38 - loss: 0.0980 - mean_iou: 0.2415 - acc: 0.95 - ETA: 1:21 - loss: 0.1016 - mean_iou: 0.2416 - acc: 0.95 - ETA: 1:05 - loss: 0.1016 - mean_iou: 0.2417 - acc: 0.95 - ETA: 48s - loss: 0.1025 - mean_iou: 0.2418 - acc: 0.9569 - ETA: 30s - loss: 0.1014 - mean_iou: 0.2419 - acc: 0.957 - ETA: 12s - loss: 0.0996 - mean_iou: 0.2420 - acc: 0.958 - 304s 568ms/step - loss: 0.0984 - mean_iou: 0.2420 - acc: 0.9588 - val_loss: 0.0742 - val_mean_iou: 0.2439 - val_acc: 0.9696\n",
      "\n"
     ]
    },
    {
     "name": "stdout",
     "output_type": "stream",
     "text": [
      "Epoch 00027: val_loss did not improve\n",
      "Epoch 28/30\n",
      "536/536 [==============================] - ETA: 2:53 - loss: 0.0822 - mean_iou: 0.2445 - acc: 0.96 - ETA: 2:42 - loss: 0.0710 - mean_iou: 0.2446 - acc: 0.97 - ETA: 2:31 - loss: 0.0721 - mean_iou: 0.2447 - acc: 0.97 - ETA: 2:19 - loss: 0.0757 - mean_iou: 0.2448 - acc: 0.97 - ETA: 2:08 - loss: 0.0910 - mean_iou: 0.2448 - acc: 0.96 - ETA: 1:57 - loss: 0.0882 - mean_iou: 0.2449 - acc: 0.96 - ETA: 1:46 - loss: 0.0857 - mean_iou: 0.2450 - acc: 0.96 - ETA: 1:35 - loss: 0.0928 - mean_iou: 0.2451 - acc: 0.96 - ETA: 1:25 - loss: 0.0924 - mean_iou: 0.2452 - acc: 0.96 - ETA: 1:14 - loss: 0.0956 - mean_iou: 0.2453 - acc: 0.95 - ETA: 1:03 - loss: 0.0949 - mean_iou: 0.2454 - acc: 0.96 - ETA: 52s - loss: 0.0952 - mean_iou: 0.2455 - acc: 0.9602 - ETA: 41s - loss: 0.0941 - mean_iou: 0.2455 - acc: 0.960 - ETA: 30s - loss: 0.0941 - mean_iou: 0.2456 - acc: 0.960 - ETA: 19s - loss: 0.0937 - mean_iou: 0.2457 - acc: 0.960 - ETA: 8s - loss: 0.0939 - mean_iou: 0.2458 - acc: 0.960 - 203s 379ms/step - loss: 0.0941 - mean_iou: 0.2459 - acc: 0.9609 - val_loss: 0.0734 - val_mean_iou: 0.2479 - val_acc: 0.9707\n",
      "\n",
      "Epoch 00028: val_loss did not improve\n",
      "Epoch 29/30\n",
      "536/536 [==============================] - ETA: 2:52 - loss: 0.1341 - mean_iou: 0.2485 - acc: 0.93 - ETA: 2:41 - loss: 0.1187 - mean_iou: 0.2485 - acc: 0.95 - ETA: 2:29 - loss: 0.1157 - mean_iou: 0.2486 - acc: 0.95 - ETA: 2:18 - loss: 0.1061 - mean_iou: 0.2487 - acc: 0.95 - ETA: 2:07 - loss: 0.1006 - mean_iou: 0.2488 - acc: 0.95 - ETA: 1:57 - loss: 0.0945 - mean_iou: 0.2489 - acc: 0.96 - ETA: 1:46 - loss: 0.0899 - mean_iou: 0.2490 - acc: 0.96 - ETA: 1:35 - loss: 0.0931 - mean_iou: 0.2491 - acc: 0.96 - ETA: 1:24 - loss: 0.0905 - mean_iou: 0.2491 - acc: 0.96 - ETA: 1:13 - loss: 0.0906 - mean_iou: 0.2492 - acc: 0.96 - ETA: 1:02 - loss: 0.0934 - mean_iou: 0.2493 - acc: 0.96 - ETA: 51s - loss: 0.0943 - mean_iou: 0.2495 - acc: 0.9600 - ETA: 40s - loss: 0.0928 - mean_iou: 0.2496 - acc: 0.960 - ETA: 30s - loss: 0.0919 - mean_iou: 0.2497 - acc: 0.961 - ETA: 19s - loss: 0.0900 - mean_iou: 0.2498 - acc: 0.961 - ETA: 8s - loss: 0.0910 - mean_iou: 0.2499 - acc: 0.961 - 205s 383ms/step - loss: 0.0926 - mean_iou: 0.2499 - acc: 0.9607 - val_loss: 0.0735 - val_mean_iou: 0.2517 - val_acc: 0.9697\n",
      "\n",
      "Epoch 00029: val_loss did not improve\n",
      "Epoch 00029: early stopping\n"
     ]
    },
    {
     "ename": "ValueError",
     "evalue": "Unknown metric function:mean_iou",
     "output_type": "error",
     "traceback": [
      "\u001b[1;31m---------------------------------------------------------------------------\u001b[0m",
      "\u001b[1;31mValueError\u001b[0m                                Traceback (most recent call last)",
      "\u001b[1;32m<ipython-input-12-a6d4b58e8d89>\u001b[0m in \u001b[0;36m<module>\u001b[1;34m()\u001b[0m\n\u001b[1;32m----> 1\u001b[1;33m \u001b[0munet_model\u001b[0m\u001b[1;33m.\u001b[0m\u001b[0mtrain\u001b[0m\u001b[1;33m(\u001b[0m\u001b[0mX_train\u001b[0m\u001b[1;33m=\u001b[0m\u001b[0mX_train\u001b[0m\u001b[1;33m,\u001b[0m \u001b[0my_train\u001b[0m\u001b[1;33m=\u001b[0m\u001b[0my_train\u001b[0m\u001b[1;33m,\u001b[0m \u001b[0mmodel_name\u001b[0m\u001b[1;33m=\u001b[0m\u001b[1;34m'unet_grey.h5'\u001b[0m\u001b[1;33m,\u001b[0m \u001b[0mvalidation_split\u001b[0m\u001b[1;33m=\u001b[0m\u001b[1;36m0.2\u001b[0m\u001b[1;33m,\u001b[0m \u001b[0mepochs\u001b[0m\u001b[1;33m=\u001b[0m\u001b[1;36m30\u001b[0m\u001b[1;33m,\u001b[0m \u001b[0mverbose\u001b[0m\u001b[1;33m=\u001b[0m\u001b[1;36m1\u001b[0m\u001b[1;33m)\u001b[0m\u001b[1;33m\u001b[0m\u001b[0m\n\u001b[0m",
      "\u001b[1;32m~\\Documents\\Project\\KaggleDetectNuclei\\code\\lib\\unet.py\u001b[0m in \u001b[0;36mtrain\u001b[1;34m(self, X_train, y_train, model_name, validation_split, batch_size, epochs, verbose)\u001b[0m\n\u001b[0;32m     85\u001b[0m                                 \u001b[0mshuffle\u001b[0m\u001b[1;33m=\u001b[0m\u001b[1;32mTrue\u001b[0m\u001b[1;33m,\u001b[0m\u001b[1;33m\u001b[0m\u001b[0m\n\u001b[0;32m     86\u001b[0m                                 callbacks=[early_stopper, check_pointer])\n\u001b[1;32m---> 87\u001b[1;33m         \u001b[0mself\u001b[0m\u001b[1;33m.\u001b[0m\u001b[0mmodel\u001b[0m \u001b[1;33m=\u001b[0m \u001b[0mload_model\u001b[0m\u001b[1;33m(\u001b[0m\u001b[0mmodel_name\u001b[0m\u001b[1;33m)\u001b[0m\u001b[1;33m\u001b[0m\u001b[0m\n\u001b[0m\u001b[0;32m     88\u001b[0m         \u001b[0mprint\u001b[0m\u001b[1;33m(\u001b[0m\u001b[1;34m'Done'\u001b[0m\u001b[1;33m)\u001b[0m\u001b[1;33m\u001b[0m\u001b[0m\n\u001b[0;32m     89\u001b[0m \u001b[1;33m\u001b[0m\u001b[0m\n",
      "\u001b[1;32mC:\\ScientificTools\\Anaconda3\\lib\\site-packages\\keras\\models.py\u001b[0m in \u001b[0;36mload_model\u001b[1;34m(filepath, custom_objects, compile)\u001b[0m\n\u001b[0;32m    272\u001b[0m                       \u001b[0mmetrics\u001b[0m\u001b[1;33m=\u001b[0m\u001b[0mmetrics\u001b[0m\u001b[1;33m,\u001b[0m\u001b[1;33m\u001b[0m\u001b[0m\n\u001b[0;32m    273\u001b[0m                       \u001b[0mloss_weights\u001b[0m\u001b[1;33m=\u001b[0m\u001b[0mloss_weights\u001b[0m\u001b[1;33m,\u001b[0m\u001b[1;33m\u001b[0m\u001b[0m\n\u001b[1;32m--> 274\u001b[1;33m                       sample_weight_mode=sample_weight_mode)\n\u001b[0m\u001b[0;32m    275\u001b[0m \u001b[1;33m\u001b[0m\u001b[0m\n\u001b[0;32m    276\u001b[0m         \u001b[1;31m# Set optimizer weights.\u001b[0m\u001b[1;33m\u001b[0m\u001b[1;33m\u001b[0m\u001b[0m\n",
      "\u001b[1;32mC:\\ScientificTools\\Anaconda3\\lib\\site-packages\\keras\\engine\\training.py\u001b[0m in \u001b[0;36mcompile\u001b[1;34m(self, optimizer, loss, metrics, loss_weights, sample_weight_mode, weighted_metrics, target_tensors, **kwargs)\u001b[0m\n\u001b[0;32m    932\u001b[0m                             \u001b[0mself\u001b[0m\u001b[1;33m.\u001b[0m\u001b[0mmetrics_updates\u001b[0m \u001b[1;33m+=\u001b[0m \u001b[0mmetric_fn\u001b[0m\u001b[1;33m.\u001b[0m\u001b[0mupdates\u001b[0m\u001b[1;33m\u001b[0m\u001b[0m\n\u001b[0;32m    933\u001b[0m \u001b[1;33m\u001b[0m\u001b[0m\n\u001b[1;32m--> 934\u001b[1;33m                 \u001b[0mhandle_metrics\u001b[0m\u001b[1;33m(\u001b[0m\u001b[0moutput_metrics\u001b[0m\u001b[1;33m)\u001b[0m\u001b[1;33m\u001b[0m\u001b[0m\n\u001b[0m\u001b[0;32m    935\u001b[0m                 \u001b[0mhandle_metrics\u001b[0m\u001b[1;33m(\u001b[0m\u001b[0moutput_weighted_metrics\u001b[0m\u001b[1;33m,\u001b[0m \u001b[0mweights\u001b[0m\u001b[1;33m=\u001b[0m\u001b[0mweights\u001b[0m\u001b[1;33m)\u001b[0m\u001b[1;33m\u001b[0m\u001b[0m\n\u001b[0;32m    936\u001b[0m \u001b[1;33m\u001b[0m\u001b[0m\n",
      "\u001b[1;32mC:\\ScientificTools\\Anaconda3\\lib\\site-packages\\keras\\engine\\training.py\u001b[0m in \u001b[0;36mhandle_metrics\u001b[1;34m(metrics, weights)\u001b[0m\n\u001b[0;32m    899\u001b[0m                             \u001b[0mmetric_name\u001b[0m \u001b[1;33m=\u001b[0m \u001b[0mmetric_name_prefix\u001b[0m \u001b[1;33m+\u001b[0m \u001b[0msuffix\u001b[0m\u001b[1;33m\u001b[0m\u001b[0m\n\u001b[0;32m    900\u001b[0m                         \u001b[1;32melse\u001b[0m\u001b[1;33m:\u001b[0m\u001b[1;33m\u001b[0m\u001b[0m\n\u001b[1;32m--> 901\u001b[1;33m                             \u001b[0mmetric_fn\u001b[0m \u001b[1;33m=\u001b[0m \u001b[0mmetrics_module\u001b[0m\u001b[1;33m.\u001b[0m\u001b[0mget\u001b[0m\u001b[1;33m(\u001b[0m\u001b[0mmetric\u001b[0m\u001b[1;33m)\u001b[0m\u001b[1;33m\u001b[0m\u001b[0m\n\u001b[0m\u001b[0;32m    902\u001b[0m                             \u001b[0mweighted_metric_fn\u001b[0m \u001b[1;33m=\u001b[0m \u001b[0m_weighted_masked_objective\u001b[0m\u001b[1;33m(\u001b[0m\u001b[0mmetric_fn\u001b[0m\u001b[1;33m)\u001b[0m\u001b[1;33m\u001b[0m\u001b[0m\n\u001b[0;32m    903\u001b[0m                             \u001b[1;31m# Get metric name as string\u001b[0m\u001b[1;33m\u001b[0m\u001b[1;33m\u001b[0m\u001b[0m\n",
      "\u001b[1;32mC:\\ScientificTools\\Anaconda3\\lib\\site-packages\\keras\\metrics.py\u001b[0m in \u001b[0;36mget\u001b[1;34m(identifier)\u001b[0m\n\u001b[0;32m     73\u001b[0m         \u001b[1;32mreturn\u001b[0m \u001b[0mdeserialize\u001b[0m\u001b[1;33m(\u001b[0m\u001b[0mconfig\u001b[0m\u001b[1;33m)\u001b[0m\u001b[1;33m\u001b[0m\u001b[0m\n\u001b[0;32m     74\u001b[0m     \u001b[1;32melif\u001b[0m \u001b[0misinstance\u001b[0m\u001b[1;33m(\u001b[0m\u001b[0midentifier\u001b[0m\u001b[1;33m,\u001b[0m \u001b[0msix\u001b[0m\u001b[1;33m.\u001b[0m\u001b[0mstring_types\u001b[0m\u001b[1;33m)\u001b[0m\u001b[1;33m:\u001b[0m\u001b[1;33m\u001b[0m\u001b[0m\n\u001b[1;32m---> 75\u001b[1;33m         \u001b[1;32mreturn\u001b[0m \u001b[0mdeserialize\u001b[0m\u001b[1;33m(\u001b[0m\u001b[0mstr\u001b[0m\u001b[1;33m(\u001b[0m\u001b[0midentifier\u001b[0m\u001b[1;33m)\u001b[0m\u001b[1;33m)\u001b[0m\u001b[1;33m\u001b[0m\u001b[0m\n\u001b[0m\u001b[0;32m     76\u001b[0m     \u001b[1;32melif\u001b[0m \u001b[0mcallable\u001b[0m\u001b[1;33m(\u001b[0m\u001b[0midentifier\u001b[0m\u001b[1;33m)\u001b[0m\u001b[1;33m:\u001b[0m\u001b[1;33m\u001b[0m\u001b[0m\n\u001b[0;32m     77\u001b[0m         \u001b[1;32mreturn\u001b[0m \u001b[0midentifier\u001b[0m\u001b[1;33m\u001b[0m\u001b[0m\n",
      "\u001b[1;32mC:\\ScientificTools\\Anaconda3\\lib\\site-packages\\keras\\metrics.py\u001b[0m in \u001b[0;36mdeserialize\u001b[1;34m(config, custom_objects)\u001b[0m\n\u001b[0;32m     65\u001b[0m                                     \u001b[0mmodule_objects\u001b[0m\u001b[1;33m=\u001b[0m\u001b[0mglobals\u001b[0m\u001b[1;33m(\u001b[0m\u001b[1;33m)\u001b[0m\u001b[1;33m,\u001b[0m\u001b[1;33m\u001b[0m\u001b[0m\n\u001b[0;32m     66\u001b[0m                                     \u001b[0mcustom_objects\u001b[0m\u001b[1;33m=\u001b[0m\u001b[0mcustom_objects\u001b[0m\u001b[1;33m,\u001b[0m\u001b[1;33m\u001b[0m\u001b[0m\n\u001b[1;32m---> 67\u001b[1;33m                                     printable_module_name='metric function')\n\u001b[0m\u001b[0;32m     68\u001b[0m \u001b[1;33m\u001b[0m\u001b[0m\n\u001b[0;32m     69\u001b[0m \u001b[1;33m\u001b[0m\u001b[0m\n",
      "\u001b[1;32mC:\\ScientificTools\\Anaconda3\\lib\\site-packages\\keras\\utils\\generic_utils.py\u001b[0m in \u001b[0;36mdeserialize_keras_object\u001b[1;34m(identifier, module_objects, custom_objects, printable_module_name)\u001b[0m\n\u001b[0;32m    162\u001b[0m             \u001b[1;32mif\u001b[0m \u001b[0mfn\u001b[0m \u001b[1;32mis\u001b[0m \u001b[1;32mNone\u001b[0m\u001b[1;33m:\u001b[0m\u001b[1;33m\u001b[0m\u001b[0m\n\u001b[0;32m    163\u001b[0m                 raise ValueError('Unknown ' + printable_module_name +\n\u001b[1;32m--> 164\u001b[1;33m                                  ':' + function_name)\n\u001b[0m\u001b[0;32m    165\u001b[0m         \u001b[1;32mreturn\u001b[0m \u001b[0mfn\u001b[0m\u001b[1;33m\u001b[0m\u001b[0m\n\u001b[0;32m    166\u001b[0m     \u001b[1;32melse\u001b[0m\u001b[1;33m:\u001b[0m\u001b[1;33m\u001b[0m\u001b[0m\n",
      "\u001b[1;31mValueError\u001b[0m: Unknown metric function:mean_iou"
     ]
    }
   ],
   "source": [
    "unet_model.train(X_train=X_train, y_train=y_train, model_name='unet_grey.h5', validation_split=0.2, epochs=30, verbose=1)"
   ]
  }
 ],
 "metadata": {
  "kernelspec": {
   "display_name": "Python 3",
   "language": "python",
   "name": "python3"
  },
  "language_info": {
   "codemirror_mode": {
    "name": "ipython",
    "version": 3
   },
   "file_extension": ".py",
   "mimetype": "text/x-python",
   "name": "python",
   "nbconvert_exporter": "python",
   "pygments_lexer": "ipython3",
   "version": "3.6.4"
  }
 },
 "nbformat": 4,
 "nbformat_minor": 2
}
